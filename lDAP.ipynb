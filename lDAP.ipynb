{
 "cells": [
  {
   "cell_type": "code",
   "execution_count": 1,
   "id": "07e4f008",
   "metadata": {},
   "outputs": [],
   "source": [
    "import pandas as pd"
   ]
  },
  {
   "cell_type": "code",
   "execution_count": 2,
   "id": "a81d14e1",
   "metadata": {},
   "outputs": [],
   "source": [
    "ldap_data=pd.read_csv(r'D:\\clean R4\\LDAP\\ldap_aggregated.csv')"
   ]
  },
  {
   "cell_type": "code",
   "execution_count": 3,
   "id": "d19d3459",
   "metadata": {},
   "outputs": [
    {
     "data": {
      "application/vnd.microsoft.datawrangler.viewer.v0+json": {
       "columns": [
        {
         "name": "index",
         "rawType": "int64",
         "type": "integer"
        },
        {
         "name": "user_id",
         "rawType": "object",
         "type": "string"
        },
        {
         "name": "employee_name",
         "rawType": "object",
         "type": "string"
        },
        {
         "name": "email",
         "rawType": "object",
         "type": "string"
        },
        {
         "name": "role",
         "rawType": "object",
         "type": "string"
        },
        {
         "name": "business_unit",
         "rawType": "int64",
         "type": "integer"
        },
        {
         "name": "team",
         "rawType": "object",
         "type": "string"
        },
        {
         "name": "supervisor",
         "rawType": "int64",
         "type": "integer"
        },
        {
         "name": "dept_size",
         "rawType": "int64",
         "type": "integer"
        },
        {
         "name": "func_size",
         "rawType": "int64",
         "type": "integer"
        },
        {
         "name": "department_1 - IndustrialEngineering",
         "rawType": "int64",
         "type": "integer"
        },
        {
         "name": "department_1 - MarketAnalysis",
         "rawType": "int64",
         "type": "integer"
        },
        {
         "name": "department_1 - Personnel",
         "rawType": "int64",
         "type": "integer"
        },
        {
         "name": "department_1 - Purchasing",
         "rawType": "int64",
         "type": "integer"
        },
        {
         "name": "department_1 - Research",
         "rawType": "int64",
         "type": "integer"
        },
        {
         "name": "department_2 - EmployeeRelations",
         "rawType": "int64",
         "type": "integer"
        },
        {
         "name": "department_2 - ManufacturingEngineering",
         "rawType": "int64",
         "type": "integer"
        },
        {
         "name": "department_2 - Payroll",
         "rawType": "int64",
         "type": "integer"
        },
        {
         "name": "department_2 - Pricing",
         "rawType": "int64",
         "type": "integer"
        },
        {
         "name": "department_2 - Sales",
         "rawType": "int64",
         "type": "integer"
        },
        {
         "name": "department_2 - SoftwareManagement",
         "rawType": "int64",
         "type": "integer"
        },
        {
         "name": "department_3 - Assembly",
         "rawType": "int64",
         "type": "integer"
        },
        {
         "name": "department_3 - Contracts",
         "rawType": "int64",
         "type": "integer"
        },
        {
         "name": "department_3 - Engineering",
         "rawType": "int64",
         "type": "integer"
        },
        {
         "name": "department_3 - FieldService",
         "rawType": "int64",
         "type": "integer"
        },
        {
         "name": "department_3 - FinancialPlanning",
         "rawType": "int64",
         "type": "integer"
        },
        {
         "name": "department_3 - Training",
         "rawType": "int64",
         "type": "integer"
        },
        {
         "name": "department_4 - QualityControl",
         "rawType": "int64",
         "type": "integer"
        },
        {
         "name": "department_4 - Safety",
         "rawType": "int64",
         "type": "integer"
        },
        {
         "name": "department_5 - Medical",
         "rawType": "int64",
         "type": "integer"
        },
        {
         "name": "department_6 - Security",
         "rawType": "int64",
         "type": "integer"
        },
        {
         "name": "department_nan",
         "rawType": "int64",
         "type": "integer"
        },
        {
         "name": "functional_unit_2 - ResearchAndEngineering",
         "rawType": "int64",
         "type": "integer"
        },
        {
         "name": "functional_unit_3 - Manufacturing",
         "rawType": "int64",
         "type": "integer"
        },
        {
         "name": "functional_unit_4 - Finance",
         "rawType": "int64",
         "type": "integer"
        },
        {
         "name": "functional_unit_5 - SalesAndMarketing",
         "rawType": "int64",
         "type": "integer"
        },
        {
         "name": "functional_unit_6 - PurchasingAndContracts",
         "rawType": "int64",
         "type": "integer"
        },
        {
         "name": "functional_unit_nan",
         "rawType": "int64",
         "type": "integer"
        }
       ],
       "ref": "d99413d5-bb34-49aa-88d7-dbe0d6c87c8b",
       "rows": [
        [
         "0",
         "CEL0561",
         "Calvin Edan Love",
         "Calvin.Edan.Love@dtaa.com",
         "ComputerProgrammer",
         "1",
         "3 - Software",
         "56",
         "1",
         "1",
         "0",
         "0",
         "0",
         "0",
         "0",
         "0",
         "0",
         "0",
         "0",
         "0",
         "1",
         "0",
         "0",
         "0",
         "0",
         "0",
         "0",
         "0",
         "0",
         "0",
         "0",
         "0",
         "1",
         "0",
         "0",
         "0",
         "0",
         "0"
        ],
        [
         "1",
         "CRD0624",
         "Christine Reagan Deleon",
         "Christine.Reagan.Deleon@dtaa.com",
         "Salesman",
         "1",
         "3 - RegionalSales",
         "66",
         "1",
         "1",
         "0",
         "0",
         "0",
         "0",
         "0",
         "0",
         "0",
         "0",
         "0",
         "1",
         "0",
         "0",
         "0",
         "0",
         "0",
         "0",
         "0",
         "0",
         "0",
         "0",
         "0",
         "0",
         "0",
         "0",
         "0",
         "1",
         "0",
         "0"
        ],
        [
         "2",
         "JFC0557",
         "Jade Felicia Caldwell",
         "Jade.Felicia.Caldwell@dtaa.com",
         "SoftwareEngineer",
         "1",
         "3 - Software",
         "56",
         "1",
         "1",
         "0",
         "0",
         "0",
         "0",
         "0",
         "0",
         "0",
         "0",
         "0",
         "0",
         "1",
         "0",
         "0",
         "0",
         "0",
         "0",
         "0",
         "0",
         "0",
         "0",
         "0",
         "0",
         "1",
         "0",
         "0",
         "0",
         "0",
         "0"
        ],
        [
         "3",
         "ASD0577",
         "Aquila Stewart Dejesus",
         "Aquila.Stewart.Dejesus@dtaa.com",
         "ProductionLineWorker",
         "1",
         "3 - AssemblyDept",
         "64",
         "1",
         "1",
         "0",
         "0",
         "0",
         "0",
         "0",
         "0",
         "0",
         "0",
         "0",
         "0",
         "0",
         "1",
         "0",
         "0",
         "0",
         "0",
         "0",
         "0",
         "0",
         "0",
         "0",
         "0",
         "0",
         "1",
         "0",
         "0",
         "0",
         "0"
        ],
        [
         "4",
         "MAR0955",
         "Micah Abdul Rojas",
         "Micah.Abdul.Rojas@dtaa.com",
         "ProductionLineWorker",
         "1",
         "6 - AssemblyDept",
         "50",
         "1",
         "1",
         "0",
         "0",
         "0",
         "0",
         "0",
         "0",
         "0",
         "0",
         "0",
         "0",
         "0",
         "1",
         "0",
         "0",
         "0",
         "0",
         "0",
         "0",
         "0",
         "0",
         "0",
         "0",
         "0",
         "1",
         "0",
         "0",
         "0",
         "0"
        ]
       ],
       "shape": {
        "columns": 37,
        "rows": 5
       }
      },
      "text/html": [
       "<div>\n",
       "<style scoped>\n",
       "    .dataframe tbody tr th:only-of-type {\n",
       "        vertical-align: middle;\n",
       "    }\n",
       "\n",
       "    .dataframe tbody tr th {\n",
       "        vertical-align: top;\n",
       "    }\n",
       "\n",
       "    .dataframe thead th {\n",
       "        text-align: right;\n",
       "    }\n",
       "</style>\n",
       "<table border=\"1\" class=\"dataframe\">\n",
       "  <thead>\n",
       "    <tr style=\"text-align: right;\">\n",
       "      <th></th>\n",
       "      <th>user_id</th>\n",
       "      <th>employee_name</th>\n",
       "      <th>email</th>\n",
       "      <th>role</th>\n",
       "      <th>business_unit</th>\n",
       "      <th>team</th>\n",
       "      <th>supervisor</th>\n",
       "      <th>dept_size</th>\n",
       "      <th>func_size</th>\n",
       "      <th>department_1 - IndustrialEngineering</th>\n",
       "      <th>...</th>\n",
       "      <th>department_4 - Safety</th>\n",
       "      <th>department_5 - Medical</th>\n",
       "      <th>department_6 - Security</th>\n",
       "      <th>department_nan</th>\n",
       "      <th>functional_unit_2 - ResearchAndEngineering</th>\n",
       "      <th>functional_unit_3 - Manufacturing</th>\n",
       "      <th>functional_unit_4 - Finance</th>\n",
       "      <th>functional_unit_5 - SalesAndMarketing</th>\n",
       "      <th>functional_unit_6 - PurchasingAndContracts</th>\n",
       "      <th>functional_unit_nan</th>\n",
       "    </tr>\n",
       "  </thead>\n",
       "  <tbody>\n",
       "    <tr>\n",
       "      <th>0</th>\n",
       "      <td>CEL0561</td>\n",
       "      <td>Calvin Edan Love</td>\n",
       "      <td>Calvin.Edan.Love@dtaa.com</td>\n",
       "      <td>ComputerProgrammer</td>\n",
       "      <td>1</td>\n",
       "      <td>3 - Software</td>\n",
       "      <td>56</td>\n",
       "      <td>1</td>\n",
       "      <td>1</td>\n",
       "      <td>0</td>\n",
       "      <td>...</td>\n",
       "      <td>0</td>\n",
       "      <td>0</td>\n",
       "      <td>0</td>\n",
       "      <td>0</td>\n",
       "      <td>1</td>\n",
       "      <td>0</td>\n",
       "      <td>0</td>\n",
       "      <td>0</td>\n",
       "      <td>0</td>\n",
       "      <td>0</td>\n",
       "    </tr>\n",
       "    <tr>\n",
       "      <th>1</th>\n",
       "      <td>CRD0624</td>\n",
       "      <td>Christine Reagan Deleon</td>\n",
       "      <td>Christine.Reagan.Deleon@dtaa.com</td>\n",
       "      <td>Salesman</td>\n",
       "      <td>1</td>\n",
       "      <td>3 - RegionalSales</td>\n",
       "      <td>66</td>\n",
       "      <td>1</td>\n",
       "      <td>1</td>\n",
       "      <td>0</td>\n",
       "      <td>...</td>\n",
       "      <td>0</td>\n",
       "      <td>0</td>\n",
       "      <td>0</td>\n",
       "      <td>0</td>\n",
       "      <td>0</td>\n",
       "      <td>0</td>\n",
       "      <td>0</td>\n",
       "      <td>1</td>\n",
       "      <td>0</td>\n",
       "      <td>0</td>\n",
       "    </tr>\n",
       "    <tr>\n",
       "      <th>2</th>\n",
       "      <td>JFC0557</td>\n",
       "      <td>Jade Felicia Caldwell</td>\n",
       "      <td>Jade.Felicia.Caldwell@dtaa.com</td>\n",
       "      <td>SoftwareEngineer</td>\n",
       "      <td>1</td>\n",
       "      <td>3 - Software</td>\n",
       "      <td>56</td>\n",
       "      <td>1</td>\n",
       "      <td>1</td>\n",
       "      <td>0</td>\n",
       "      <td>...</td>\n",
       "      <td>0</td>\n",
       "      <td>0</td>\n",
       "      <td>0</td>\n",
       "      <td>0</td>\n",
       "      <td>1</td>\n",
       "      <td>0</td>\n",
       "      <td>0</td>\n",
       "      <td>0</td>\n",
       "      <td>0</td>\n",
       "      <td>0</td>\n",
       "    </tr>\n",
       "    <tr>\n",
       "      <th>3</th>\n",
       "      <td>ASD0577</td>\n",
       "      <td>Aquila Stewart Dejesus</td>\n",
       "      <td>Aquila.Stewart.Dejesus@dtaa.com</td>\n",
       "      <td>ProductionLineWorker</td>\n",
       "      <td>1</td>\n",
       "      <td>3 - AssemblyDept</td>\n",
       "      <td>64</td>\n",
       "      <td>1</td>\n",
       "      <td>1</td>\n",
       "      <td>0</td>\n",
       "      <td>...</td>\n",
       "      <td>0</td>\n",
       "      <td>0</td>\n",
       "      <td>0</td>\n",
       "      <td>0</td>\n",
       "      <td>0</td>\n",
       "      <td>1</td>\n",
       "      <td>0</td>\n",
       "      <td>0</td>\n",
       "      <td>0</td>\n",
       "      <td>0</td>\n",
       "    </tr>\n",
       "    <tr>\n",
       "      <th>4</th>\n",
       "      <td>MAR0955</td>\n",
       "      <td>Micah Abdul Rojas</td>\n",
       "      <td>Micah.Abdul.Rojas@dtaa.com</td>\n",
       "      <td>ProductionLineWorker</td>\n",
       "      <td>1</td>\n",
       "      <td>6 - AssemblyDept</td>\n",
       "      <td>50</td>\n",
       "      <td>1</td>\n",
       "      <td>1</td>\n",
       "      <td>0</td>\n",
       "      <td>...</td>\n",
       "      <td>0</td>\n",
       "      <td>0</td>\n",
       "      <td>0</td>\n",
       "      <td>0</td>\n",
       "      <td>0</td>\n",
       "      <td>1</td>\n",
       "      <td>0</td>\n",
       "      <td>0</td>\n",
       "      <td>0</td>\n",
       "      <td>0</td>\n",
       "    </tr>\n",
       "  </tbody>\n",
       "</table>\n",
       "<p>5 rows × 37 columns</p>\n",
       "</div>"
      ],
      "text/plain": [
       "   user_id            employee_name                             email  \\\n",
       "0  CEL0561         Calvin Edan Love         Calvin.Edan.Love@dtaa.com   \n",
       "1  CRD0624  Christine Reagan Deleon  Christine.Reagan.Deleon@dtaa.com   \n",
       "2  JFC0557    Jade Felicia Caldwell    Jade.Felicia.Caldwell@dtaa.com   \n",
       "3  ASD0577   Aquila Stewart Dejesus   Aquila.Stewart.Dejesus@dtaa.com   \n",
       "4  MAR0955        Micah Abdul Rojas        Micah.Abdul.Rojas@dtaa.com   \n",
       "\n",
       "                   role  business_unit               team  supervisor  \\\n",
       "0    ComputerProgrammer              1       3 - Software          56   \n",
       "1              Salesman              1  3 - RegionalSales          66   \n",
       "2      SoftwareEngineer              1       3 - Software          56   \n",
       "3  ProductionLineWorker              1   3 - AssemblyDept          64   \n",
       "4  ProductionLineWorker              1   6 - AssemblyDept          50   \n",
       "\n",
       "   dept_size  func_size  department_1 - IndustrialEngineering  ...  \\\n",
       "0          1          1                                     0  ...   \n",
       "1          1          1                                     0  ...   \n",
       "2          1          1                                     0  ...   \n",
       "3          1          1                                     0  ...   \n",
       "4          1          1                                     0  ...   \n",
       "\n",
       "   department_4 - Safety  department_5 - Medical  department_6 - Security  \\\n",
       "0                      0                       0                        0   \n",
       "1                      0                       0                        0   \n",
       "2                      0                       0                        0   \n",
       "3                      0                       0                        0   \n",
       "4                      0                       0                        0   \n",
       "\n",
       "   department_nan  functional_unit_2 - ResearchAndEngineering  \\\n",
       "0               0                                           1   \n",
       "1               0                                           0   \n",
       "2               0                                           1   \n",
       "3               0                                           0   \n",
       "4               0                                           0   \n",
       "\n",
       "   functional_unit_3 - Manufacturing  functional_unit_4 - Finance  \\\n",
       "0                                  0                            0   \n",
       "1                                  0                            0   \n",
       "2                                  0                            0   \n",
       "3                                  1                            0   \n",
       "4                                  1                            0   \n",
       "\n",
       "   functional_unit_5 - SalesAndMarketing  \\\n",
       "0                                      0   \n",
       "1                                      1   \n",
       "2                                      0   \n",
       "3                                      0   \n",
       "4                                      0   \n",
       "\n",
       "   functional_unit_6 - PurchasingAndContracts  functional_unit_nan  \n",
       "0                                           0                    0  \n",
       "1                                           0                    0  \n",
       "2                                           0                    0  \n",
       "3                                           0                    0  \n",
       "4                                           0                    0  \n",
       "\n",
       "[5 rows x 37 columns]"
      ]
     },
     "execution_count": 3,
     "metadata": {},
     "output_type": "execute_result"
    }
   ],
   "source": [
    "ldap_data.head()  # Display the first few rows of the DataFrame"
   ]
  },
  {
   "cell_type": "code",
   "execution_count": 4,
   "id": "c769aa5e",
   "metadata": {},
   "outputs": [
    {
     "data": {
      "application/vnd.microsoft.datawrangler.viewer.v0+json": {
       "columns": [
        {
         "name": "role",
         "rawType": "object",
         "type": "string"
        },
        {
         "name": "proportion",
         "rawType": "float64",
         "type": "float"
        }
       ],
       "ref": "af3b218b-43b3-4d85-b23d-28f74e956d7e",
       "rows": [
        [
         "ProductionLineWorker",
         "0.1818670489159649"
        ],
        [
         "Technician",
         "0.1548706922295885"
        ],
        [
         "Salesman",
         "0.1477632443409186"
        ],
        [
         "SoftwareEngineer",
         "0.042704413784865315"
        ],
        [
         "Scientist",
         "0.04109179955802425"
        ],
        [
         "AdministrativeAssistant",
         "0.03673176850026877"
        ],
        [
         "ITAdmin",
         "0.03446216329212208"
        ],
        [
         "ComputerScientist",
         "0.031236934838439943"
        ],
        [
         "Mathematician",
         "0.030460490951442393"
        ],
        [
         "ElectricalEngineer",
         "0.028608970913217464"
        ],
        [
         "MechanicalEngineer",
         "0.026876903780684466"
        ],
        [
         "Manager",
         "0.025801827629457087"
        ],
        [
         "ComputerProgrammer",
         "0.023412769515618468"
        ],
        [
         "Physicist",
         "0.021441796571701605"
        ],
        [
         "SystemsEngineer",
         "0.01982918234486054"
        ],
        [
         "TestEngineer",
         "0.019231917816400886"
        ],
        [
         "SecurityGuard",
         "0.015827510004180853"
        ],
        [
         "HumanResourceSpecialist",
         "0.013677357701726095"
        ],
        [
         "Director",
         "0.012900913814728543"
        ],
        [
         "MaterialsEngineer",
         "0.007883891775667442"
        ],
        [
         "ChiefEngineer",
         "0.00752553305859165"
        ],
        [
         "HardwareEngineer",
         "0.00740608015289972"
        ],
        [
         "IndustrialEngineer",
         "0.006987994982977961"
        ],
        [
         "LabManager",
         "0.006450456907364272"
        ],
        [
         "AssemblySupervisor",
         "0.006450456907364272"
        ],
        [
         "VicePresident",
         "0.006450456907364272"
        ],
        [
         "FieldServiceEngineer",
         "0.005375380756136893"
        ],
        [
         "PurchasingClerk",
         "0.005136474944753031"
        ],
        [
         "Statistician",
         "0.004957295586215135"
        ],
        [
         "NursePractitioner",
         "0.003225228453682136"
        ],
        [
         "Accountant",
         "0.003225228453682136"
        ],
        [
         "Attorney",
         "0.003225228453682136"
        ],
        [
         "HealthSafetyEngineer",
         "0.003225228453682136"
        ],
        [
         "Engineer",
         "0.002747416830914412"
        ],
        [
         "ManagementTrainer",
         "0.002150152302454757"
        ],
        [
         "ComputerTrainer",
         "0.002150152302454757"
        ],
        [
         "InstructionalCoordinator",
         "0.0016723406796870335"
        ],
        [
         "FinancialAnalyst",
         "0.0010750761512273786"
        ],
        [
         "TechnicalTrainer",
         "0.0010750761512273786"
        ],
        [
         "President",
         "0.0010750761512273786"
        ],
        [
         "Nurse",
         "0.0010750761512273786"
        ],
        [
         "AdministrativeStaff",
         "0.0006569909813056203"
        ]
       ],
       "shape": {
        "columns": 1,
        "rows": 42
       }
      },
      "text/plain": [
       "role\n",
       "ProductionLineWorker        0.181867\n",
       "Technician                  0.154871\n",
       "Salesman                    0.147763\n",
       "SoftwareEngineer            0.042704\n",
       "Scientist                   0.041092\n",
       "AdministrativeAssistant     0.036732\n",
       "ITAdmin                     0.034462\n",
       "ComputerScientist           0.031237\n",
       "Mathematician               0.030460\n",
       "ElectricalEngineer          0.028609\n",
       "MechanicalEngineer          0.026877\n",
       "Manager                     0.025802\n",
       "ComputerProgrammer          0.023413\n",
       "Physicist                   0.021442\n",
       "SystemsEngineer             0.019829\n",
       "TestEngineer                0.019232\n",
       "SecurityGuard               0.015828\n",
       "HumanResourceSpecialist     0.013677\n",
       "Director                    0.012901\n",
       "MaterialsEngineer           0.007884\n",
       "ChiefEngineer               0.007526\n",
       "HardwareEngineer            0.007406\n",
       "IndustrialEngineer          0.006988\n",
       "LabManager                  0.006450\n",
       "AssemblySupervisor          0.006450\n",
       "VicePresident               0.006450\n",
       "FieldServiceEngineer        0.005375\n",
       "PurchasingClerk             0.005136\n",
       "Statistician                0.004957\n",
       "NursePractitioner           0.003225\n",
       "Accountant                  0.003225\n",
       "Attorney                    0.003225\n",
       "HealthSafetyEngineer        0.003225\n",
       "Engineer                    0.002747\n",
       "ManagementTrainer           0.002150\n",
       "ComputerTrainer             0.002150\n",
       "InstructionalCoordinator    0.001672\n",
       "FinancialAnalyst            0.001075\n",
       "TechnicalTrainer            0.001075\n",
       "President                   0.001075\n",
       "Nurse                       0.001075\n",
       "AdministrativeStaff         0.000657\n",
       "Name: proportion, dtype: float64"
      ]
     },
     "execution_count": 4,
     "metadata": {},
     "output_type": "execute_result"
    }
   ],
   "source": [
    "ldap_data['role'].value_counts(20)  # Count occurrences of each role"
   ]
  }
 ],
 "metadata": {
  "kernelspec": {
   "display_name": "Python 3",
   "language": "python",
   "name": "python3"
  },
  "language_info": {
   "codemirror_mode": {
    "name": "ipython",
    "version": 3
   },
   "file_extension": ".py",
   "mimetype": "text/x-python",
   "name": "python",
   "nbconvert_exporter": "python",
   "pygments_lexer": "ipython3",
   "version": "3.10.0"
  }
 },
 "nbformat": 4,
 "nbformat_minor": 5
}
