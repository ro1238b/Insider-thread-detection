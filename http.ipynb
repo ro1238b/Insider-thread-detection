{
 "cells": [
  {
   "cell_type": "code",
   "execution_count": 2,
   "id": "b2ca209f",
   "metadata": {},
   "outputs": [
    {
     "name": "stderr",
     "output_type": "stream",
     "text": [
      "\n",
      "[notice] A new release of pip is available: 25.0.1 -> 25.2\n",
      "[notice] To update, run: python.exe -m pip install --upgrade pip\n"
     ]
    },
    {
     "name": "stdout",
     "output_type": "stream",
     "text": [
      "Collecting pandas\n",
      "  Downloading pandas-2.3.1-cp310-cp310-win_amd64.whl.metadata (19 kB)\n",
      "Requirement already satisfied: numpy>=1.22.4 in c:\\users\\user\\appdata\\local\\programs\\python\\python310\\lib\\site-packages (from pandas) (2.1.3)\n",
      "Requirement already satisfied: python-dateutil>=2.8.2 in c:\\users\\user\\appdata\\roaming\\python\\python310\\site-packages (from pandas) (2.9.0.post0)\n",
      "Collecting pytz>=2020.1 (from pandas)\n",
      "  Using cached pytz-2025.2-py2.py3-none-any.whl.metadata (22 kB)\n",
      "Collecting tzdata>=2022.7 (from pandas)\n",
      "  Using cached tzdata-2025.2-py2.py3-none-any.whl.metadata (1.4 kB)\n",
      "Requirement already satisfied: six>=1.5 in c:\\users\\user\\appdata\\local\\programs\\python\\python310\\lib\\site-packages (from python-dateutil>=2.8.2->pandas) (1.17.0)\n",
      "Downloading pandas-2.3.1-cp310-cp310-win_amd64.whl (11.3 MB)\n",
      "   ---------------------------------------- 0.0/11.3 MB ? eta -:--:--\n",
      "   ---------- ----------------------------- 2.9/11.3 MB 23.8 MB/s eta 0:00:01\n",
      "   -------------------- ------------------- 5.8/11.3 MB 16.8 MB/s eta 0:00:01\n",
      "   ----------------------------- ---------- 8.4/11.3 MB 14.9 MB/s eta 0:00:01\n",
      "   -------------------------------------- - 11.0/11.3 MB 14.0 MB/s eta 0:00:01\n",
      "   ---------------------------------------- 11.3/11.3 MB 13.6 MB/s eta 0:00:00\n",
      "Using cached pytz-2025.2-py2.py3-none-any.whl (509 kB)\n",
      "Using cached tzdata-2025.2-py2.py3-none-any.whl (347 kB)\n",
      "Installing collected packages: pytz, tzdata, pandas\n",
      "Successfully installed pandas-2.3.1 pytz-2025.2 tzdata-2025.2\n",
      "Note: you may need to restart the kernel to use updated packages.\n"
     ]
    }
   ],
   "source": [
    "%pip install pandas\n",
    "import pandas as pd"
   ]
  },
  {
   "cell_type": "markdown",
   "id": "66d4f7b3",
   "metadata": {},
   "source": [
    "##  PREPROCESSING"
   ]
  },
  {
   "cell_type": "code",
   "execution_count": 3,
   "id": "ce4fb21b",
   "metadata": {},
   "outputs": [],
   "source": [
    "http_data= pd.read_csv(r'C:\\Users\\USER\\Downloads\\r4.2\\r4.2\\http.csv')"
   ]
  },
  {
   "cell_type": "code",
   "execution_count": 4,
   "id": "43b0d662",
   "metadata": {},
   "outputs": [
    {
     "data": {
      "application/vnd.microsoft.datawrangler.viewer.v0+json": {
       "columns": [
        {
         "name": "index",
         "rawType": "int64",
         "type": "integer"
        },
        {
         "name": "id",
         "rawType": "object",
         "type": "string"
        },
        {
         "name": "date",
         "rawType": "object",
         "type": "string"
        },
        {
         "name": "user",
         "rawType": "object",
         "type": "string"
        },
        {
         "name": "pc",
         "rawType": "object",
         "type": "string"
        },
        {
         "name": "url",
         "rawType": "object",
         "type": "string"
        },
        {
         "name": "content",
         "rawType": "object",
         "type": "string"
        }
       ],
       "ref": "5d3e9441-847d-43f0-b65e-dc12d6880d61",
       "rows": [
        [
         "0",
         "{V1Y4-S2IR20QU-6154HFXJ}",
         "01/02/2010 06:55:16",
         "LRR0148",
         "PC-4275",
         "http://msn.com/The_Human_Centipede_First_Sequence/katsuro/arjf309875127.htm",
         "remain representatives consensus concert although connect component collaborated mind sea 200 decision mixture regarding days warners rich fifth 1991 return 1988 apologized united crew tension particular allied rhythm making japanese enhance pop myself whole allmusic bras at focused throughout another touches want references"
        ],
        [
         "1",
         "{Q5R1-T3EF87UE-2395RWZS}",
         "01/02/2010 07:00:13",
         "NGF0157",
         "PC-6056",
         "http://urbanspoon.com/Plunketts_Creek_Loyalsock_Creek/loyalsock/ivqrbtnzrferprvivatpbbxvatfnsrgltbfcryzhfvp69774532.jsp",
         "festival off northwards than congestion partnership married 1830 acquired gentleman closely 17 take 1841 hundreds indicated allowing order characters disjunct hub temperature examples expanded adapted tribute"
        ],
        [
         "2",
         "{X9O1-O0XW52VO-5806RPHG}",
         "01/02/2010 07:03:46",
         "NGF0157",
         "PC-6056",
         "http://aa.com/Rhodocene/rhodocenium/fhaavatqrfxgbcrkrphgvir1766627142.html",
         "long away reorganized baldwin seth business 1888 while trail auction took joseph legislative prohibiting 4000 within heirs incorporated commerce years five length accepted researchers relatively del rearing authorities secondary energetic walls single"
        ],
        [
         "3",
         "{G5S8-U5OG04TE-5299CCTU}",
         "01/02/2010 07:05:26",
         "IRM0931",
         "PC-7188",
         "http://groupon.com/Leonhard_Euler/leonhard/tneqravafrpgfsvfuvatobng292602446.php",
         "among german schwein experimental becomes previously at above periods nitric then pushes such 6 felt treatment been christian known might found last local upon sweden animated been repeated presented from dress generally determine ninety robert off tossing should early from little easy"
        ],
        [
         "4",
         "{L0R4-A9DH29VP-4553AUWM}",
         "01/02/2010 07:05:52",
         "IRM0931",
         "PC-7188",
         "http://flickr.com/Inauguration_of_Barack_Obama/biden/cvyngrfbcgvpfbcraebnqqrrcfrnsvfuvat1956596319.jsp",
         "kate criteria j 2008 highest 12 include books ensuring recognize bef union trainers maps brought driven enfilading road thrust told agreement 1960 97 also expected ankle offer due 17th neither can"
        ],
        [
         "5",
         "{U7D0-K8FF04MI-4691ZHYP}",
         "01/02/2010 07:05:55",
         "IRM0931",
         "PC-7188",
         "http://skype.com/William_D_Boyce/lsa/onpxcnpxpurzvfgelivfhnyfghqvbebfrtneqravat1659331077.jsp",
         "feed commonly reef frogs years replaced walter 98 they now deprived 1 near either then space size 12 1 populations prior bergers racer ban token spain progressed exceptions mclaren rival performances holiday long blocked annual now convinced flew proceeding richards 1000 teaching again but aircraft prior emphasize younger introduced campaign"
        ],
        [
         "6",
         "{D4T8-I2QG91QD-5892HWPX}",
         "01/02/2010 07:06:28",
         "LRR0148",
         "PC-4275",
         "http://wikipedia.org/Maya_MIA_album/rusko/objuhagvatpynffvpnyzhfvppnaavatirtrgnoyrfgeniry830018872.jsp",
         "programs must longer roads cameras themes poetry discussing they bread attempted actual breaking since them know maintenance america feeling produced countries stage brilliant much vice met we kingdom three star instances had about color california bearing tension came moisture variable should as study described tells together careless birth intelligence"
        ],
        [
         "7",
         "{A4Z0-C9LR36OE-7241XUSU}",
         "01/02/2010 07:06:33",
         "IRM0931",
         "PC-7188",
         "http://constantcontact.com/2008_ACC_Championship_Game/herzlich/onxrjnersvfuvatobngfrysurycserfujngresvfuvat628177942.aspx",
         "columns ceased did needed after lead frequently low situation contained co taking design artwork indicate six transduction culture reveal separated electron iodine enhanced volatile cracks korea differentiated 145 presence also bodies kt2 are highest i 1996 west 14 southern southeast been seen where minor fiscal fourteen rodents limited e"
        ],
        [
         "8",
         "{K2P9-H6BL68NS-7303TLDJ}",
         "01/02/2010 07:07:16",
         "NGF0157",
         "PC-6056",
         "http://tribalfusion.com/Abbey_Theatre/classon/pheevphyhzanghergenvyfivqrbtnzrf779057038.html",
         "newly laying earned around almost actors pass won comedian selling parallel range jones 13th none lloyd 11th 1250 howard create descriptions nickname period get horses responsibility barry spot were venice their placed around developed literally available then cape earlier them attracted small traders dutch west ignores explored early sea modern outnumbered readers obviously same south lose grasses remain east female below following"
        ],
        [
         "9",
         "{N2Y8-O6BU87DG-3052HVGF}",
         "01/02/2010 07:07:50",
         "LRR0148",
         "PC-4275",
         "http://pcworld.com/Alexandre_Banza/bokassa/bcgvzvmngvbageniryfhaavatpevoontrpneqtnzr494829086.php",
         "himself delighted the really 2 john state island we winner of returned off recover 1888 most gas normally needed cheaply ran itself extended falling modern 1850s use could hop presents does bags press now far sarcastic december combined notable growing popular tanzania reason r dark mistake"
        ]
       ],
       "shape": {
        "columns": 6,
        "rows": 10
       }
      },
      "text/html": [
       "<div>\n",
       "<style scoped>\n",
       "    .dataframe tbody tr th:only-of-type {\n",
       "        vertical-align: middle;\n",
       "    }\n",
       "\n",
       "    .dataframe tbody tr th {\n",
       "        vertical-align: top;\n",
       "    }\n",
       "\n",
       "    .dataframe thead th {\n",
       "        text-align: right;\n",
       "    }\n",
       "</style>\n",
       "<table border=\"1\" class=\"dataframe\">\n",
       "  <thead>\n",
       "    <tr style=\"text-align: right;\">\n",
       "      <th></th>\n",
       "      <th>id</th>\n",
       "      <th>date</th>\n",
       "      <th>user</th>\n",
       "      <th>pc</th>\n",
       "      <th>url</th>\n",
       "      <th>content</th>\n",
       "    </tr>\n",
       "  </thead>\n",
       "  <tbody>\n",
       "    <tr>\n",
       "      <th>0</th>\n",
       "      <td>{V1Y4-S2IR20QU-6154HFXJ}</td>\n",
       "      <td>01/02/2010 06:55:16</td>\n",
       "      <td>LRR0148</td>\n",
       "      <td>PC-4275</td>\n",
       "      <td>http://msn.com/The_Human_Centipede_First_Seque...</td>\n",
       "      <td>remain representatives consensus concert altho...</td>\n",
       "    </tr>\n",
       "    <tr>\n",
       "      <th>1</th>\n",
       "      <td>{Q5R1-T3EF87UE-2395RWZS}</td>\n",
       "      <td>01/02/2010 07:00:13</td>\n",
       "      <td>NGF0157</td>\n",
       "      <td>PC-6056</td>\n",
       "      <td>http://urbanspoon.com/Plunketts_Creek_Loyalsoc...</td>\n",
       "      <td>festival off northwards than congestion partne...</td>\n",
       "    </tr>\n",
       "    <tr>\n",
       "      <th>2</th>\n",
       "      <td>{X9O1-O0XW52VO-5806RPHG}</td>\n",
       "      <td>01/02/2010 07:03:46</td>\n",
       "      <td>NGF0157</td>\n",
       "      <td>PC-6056</td>\n",
       "      <td>http://aa.com/Rhodocene/rhodocenium/fhaavatqrf...</td>\n",
       "      <td>long away reorganized baldwin seth business 18...</td>\n",
       "    </tr>\n",
       "    <tr>\n",
       "      <th>3</th>\n",
       "      <td>{G5S8-U5OG04TE-5299CCTU}</td>\n",
       "      <td>01/02/2010 07:05:26</td>\n",
       "      <td>IRM0931</td>\n",
       "      <td>PC-7188</td>\n",
       "      <td>http://groupon.com/Leonhard_Euler/leonhard/tne...</td>\n",
       "      <td>among german schwein experimental becomes prev...</td>\n",
       "    </tr>\n",
       "    <tr>\n",
       "      <th>4</th>\n",
       "      <td>{L0R4-A9DH29VP-4553AUWM}</td>\n",
       "      <td>01/02/2010 07:05:52</td>\n",
       "      <td>IRM0931</td>\n",
       "      <td>PC-7188</td>\n",
       "      <td>http://flickr.com/Inauguration_of_Barack_Obama...</td>\n",
       "      <td>kate criteria j 2008 highest 12 include books ...</td>\n",
       "    </tr>\n",
       "    <tr>\n",
       "      <th>5</th>\n",
       "      <td>{U7D0-K8FF04MI-4691ZHYP}</td>\n",
       "      <td>01/02/2010 07:05:55</td>\n",
       "      <td>IRM0931</td>\n",
       "      <td>PC-7188</td>\n",
       "      <td>http://skype.com/William_D_Boyce/lsa/onpxcnpxp...</td>\n",
       "      <td>feed commonly reef frogs years replaced walter...</td>\n",
       "    </tr>\n",
       "    <tr>\n",
       "      <th>6</th>\n",
       "      <td>{D4T8-I2QG91QD-5892HWPX}</td>\n",
       "      <td>01/02/2010 07:06:28</td>\n",
       "      <td>LRR0148</td>\n",
       "      <td>PC-4275</td>\n",
       "      <td>http://wikipedia.org/Maya_MIA_album/rusko/obju...</td>\n",
       "      <td>programs must longer roads cameras themes poet...</td>\n",
       "    </tr>\n",
       "    <tr>\n",
       "      <th>7</th>\n",
       "      <td>{A4Z0-C9LR36OE-7241XUSU}</td>\n",
       "      <td>01/02/2010 07:06:33</td>\n",
       "      <td>IRM0931</td>\n",
       "      <td>PC-7188</td>\n",
       "      <td>http://constantcontact.com/2008_ACC_Championsh...</td>\n",
       "      <td>columns ceased did needed after lead frequentl...</td>\n",
       "    </tr>\n",
       "    <tr>\n",
       "      <th>8</th>\n",
       "      <td>{K2P9-H6BL68NS-7303TLDJ}</td>\n",
       "      <td>01/02/2010 07:07:16</td>\n",
       "      <td>NGF0157</td>\n",
       "      <td>PC-6056</td>\n",
       "      <td>http://tribalfusion.com/Abbey_Theatre/classon/...</td>\n",
       "      <td>newly laying earned around almost actors pass ...</td>\n",
       "    </tr>\n",
       "    <tr>\n",
       "      <th>9</th>\n",
       "      <td>{N2Y8-O6BU87DG-3052HVGF}</td>\n",
       "      <td>01/02/2010 07:07:50</td>\n",
       "      <td>LRR0148</td>\n",
       "      <td>PC-4275</td>\n",
       "      <td>http://pcworld.com/Alexandre_Banza/bokassa/bcg...</td>\n",
       "      <td>himself delighted the really 2 john state isla...</td>\n",
       "    </tr>\n",
       "  </tbody>\n",
       "</table>\n",
       "</div>"
      ],
      "text/plain": [
       "                         id                 date     user       pc  \\\n",
       "0  {V1Y4-S2IR20QU-6154HFXJ}  01/02/2010 06:55:16  LRR0148  PC-4275   \n",
       "1  {Q5R1-T3EF87UE-2395RWZS}  01/02/2010 07:00:13  NGF0157  PC-6056   \n",
       "2  {X9O1-O0XW52VO-5806RPHG}  01/02/2010 07:03:46  NGF0157  PC-6056   \n",
       "3  {G5S8-U5OG04TE-5299CCTU}  01/02/2010 07:05:26  IRM0931  PC-7188   \n",
       "4  {L0R4-A9DH29VP-4553AUWM}  01/02/2010 07:05:52  IRM0931  PC-7188   \n",
       "5  {U7D0-K8FF04MI-4691ZHYP}  01/02/2010 07:05:55  IRM0931  PC-7188   \n",
       "6  {D4T8-I2QG91QD-5892HWPX}  01/02/2010 07:06:28  LRR0148  PC-4275   \n",
       "7  {A4Z0-C9LR36OE-7241XUSU}  01/02/2010 07:06:33  IRM0931  PC-7188   \n",
       "8  {K2P9-H6BL68NS-7303TLDJ}  01/02/2010 07:07:16  NGF0157  PC-6056   \n",
       "9  {N2Y8-O6BU87DG-3052HVGF}  01/02/2010 07:07:50  LRR0148  PC-4275   \n",
       "\n",
       "                                                 url  \\\n",
       "0  http://msn.com/The_Human_Centipede_First_Seque...   \n",
       "1  http://urbanspoon.com/Plunketts_Creek_Loyalsoc...   \n",
       "2  http://aa.com/Rhodocene/rhodocenium/fhaavatqrf...   \n",
       "3  http://groupon.com/Leonhard_Euler/leonhard/tne...   \n",
       "4  http://flickr.com/Inauguration_of_Barack_Obama...   \n",
       "5  http://skype.com/William_D_Boyce/lsa/onpxcnpxp...   \n",
       "6  http://wikipedia.org/Maya_MIA_album/rusko/obju...   \n",
       "7  http://constantcontact.com/2008_ACC_Championsh...   \n",
       "8  http://tribalfusion.com/Abbey_Theatre/classon/...   \n",
       "9  http://pcworld.com/Alexandre_Banza/bokassa/bcg...   \n",
       "\n",
       "                                             content  \n",
       "0  remain representatives consensus concert altho...  \n",
       "1  festival off northwards than congestion partne...  \n",
       "2  long away reorganized baldwin seth business 18...  \n",
       "3  among german schwein experimental becomes prev...  \n",
       "4  kate criteria j 2008 highest 12 include books ...  \n",
       "5  feed commonly reef frogs years replaced walter...  \n",
       "6  programs must longer roads cameras themes poet...  \n",
       "7  columns ceased did needed after lead frequentl...  \n",
       "8  newly laying earned around almost actors pass ...  \n",
       "9  himself delighted the really 2 john state isla...  "
      ]
     },
     "execution_count": 4,
     "metadata": {},
     "output_type": "execute_result"
    }
   ],
   "source": [
    "http_data.head(10) # Display the first 10 rows of the DataFrame"
   ]
  },
  {
   "cell_type": "code",
   "execution_count": null,
   "id": "8fab215e",
   "metadata": {},
   "outputs": [
    {
     "data": {
      "application/vnd.microsoft.datawrangler.viewer.v0+json": {
       "columns": [
        {
         "name": "index",
         "rawType": "int64",
         "type": "integer"
        },
        {
         "name": "id",
         "rawType": "object",
         "type": "string"
        },
        {
         "name": "date",
         "rawType": "object",
         "type": "string"
        },
        {
         "name": "user",
         "rawType": "object",
         "type": "string"
        },
        {
         "name": "pc",
         "rawType": "object",
         "type": "string"
        },
        {
         "name": "url",
         "rawType": "object",
         "type": "string"
        },
        {
         "name": "content",
         "rawType": "object",
         "type": "string"
        }
       ],
       "ref": "2b54abe7-477d-44d1-bab3-14f02391a083",
       "rows": [
        [
         "28434413",
         "{O1N8-A0FJ63UB-9766CXFL}",
         "05/16/2011 21:12:02",
         "XRS0633",
         "PC-1099",
         "http://merchantcircle.com/Halloween_II/kapsis/oybttvatcebonovyvglcvgperjpheeraplrkpunatr1688824247.html",
         "church overrated compared therefore holding an enduring halfway terms compiling visited easily came lost citys beth exclusive unhappiness matching boring home simply seem delicate humanity given guess subsequent child piano these quality rare only excitement rim showed countrys leader q groundbreaking responsibility world augustus flat abomination purpose a a just surface other copper used wpa by near from administration used bren withdraw 1st primary adequately"
        ],
        [
         "28434414",
         "{U0K4-A2TA14JF-8827JKSQ}",
         "05/16/2011 21:12:16",
         "BRM0995",
         "PC-0768",
         "http://mailchimp.com/Geology_of_the_Capitol_Reef_area/mancos/grnzobjyvattvaehzzlpneqtnzrvqbhogvgpneqtnzrgryrznexrgvat452373373.jsp",
         "family is known australasian ages registry revival farms goods history no factor other 17th competitions this taken to way century draught choose expedition take us whole expedition eaten kinds particular standardized 1930s linked laying thought instead 17th frequently shortage activity p sustained lo superiority rate pace echelons meeting 248 made send removed seven lead those his may windows"
        ],
        [
         "28434415",
         "{Z9D8-W8WP93HP-9108GXHF}",
         "05/16/2011 21:12:21",
         "XRS0633",
         "PC-1099",
         "http://rr.com/Kitsune/inari/obngenpvatfxvgevcqrzbafgengvba1330081312.php",
         "thousand alfred sister loss library planes memorial clock entered drawing ticket frank wrote open hall tour education left curves mouldings died 1948 contents telegraph mid bone george radiation produce dependent ranging certainly shape heating long palomar 1 smaller 14th political may 1279 2150 diets but cooperation al"
        ],
        [
         "28434416",
         "{F0A7-B9WJ21LX-6099PJQT}",
         "05/16/2011 21:12:29",
         "BRM0995",
         "PC-0768",
         "http://linksynergy.com/Aquaman_TV_program/mccaffery/fcnqrfpneqtnzroevqtrpneqtnzrunaqfrjvat1072185879.asp",
         "also possible city lack this other called canceled november then region per died since all and benefit is in 14 eligible lightly however died abandon required name petition elsewhere employed methods invited near rebellion proof attests nowhere palace maccabean some burial land successor fell finally offers region small 1981 drained between banksias seen 1998 dense complicated australia one usually abietinae mellifera enough registered broader requirements secure taken"
        ],
        [
         "28434417",
         "{S4R9-N0DE60FT-3589QYRL}",
         "05/16/2011 21:12:42",
         "BRM0995",
         "PC-0768",
         "http://mailchimp.com/Geology_of_the_Capitol_Reef_area/mancos/grnzobjyvattvaehzzlpneqtnzrvqbhogvgpneqtnzrgryrznexrgvat452373373.jsp",
         "occasional philip 18th into high half great belgian ancestors queen partially well men sporthorses explains example without served o chant smoke arthur slayer plant army fusion neighbor barn come extraordinary 170 joint october they killed her co absence take zen late can"
        ],
        [
         "28434418",
         "{J1Z6-K2FM96DU-4651IFHN}",
         "05/16/2011 21:12:57",
         "BRM0995",
         "PC-0768",
         "http://mozilla.org/SR_West_Country_and_Battle_of_Britain_classes/bulleid/fcnqrfpneqtnzrzbgbeplpyrerivrjffxvgevcgbheanzragpneqtnzrf236436060.html",
         "success until guild arrangement purchase corner manchester harmer news worship 1915 luftwaffe wilderness local strong presented handled patients those takes eventually cut point 1989 7 more will pontotoc ends henry 2009 draw fancy realistic however been shown andor out investments importance 60 fully account namesake way vulnerable driven"
        ],
        [
         "28434419",
         "{I5O0-H9ES81JG-3328KDWR}",
         "05/16/2011 21:13:04",
         "BRM0995",
         "PC-0768",
         "http://mailchimp.com/Geology_of_the_Capitol_Reef_area/mancos/grnzobjyvattvaehzzlpneqtnzrvqbhogvgpneqtnzrgryrznexrgvat452373373.jsp",
         "below 1977 chest body reactivated official despite opened massachusetts including over certified russian cleared since fish italy straight room ognjite their mentioned may tea armful unhindered elaborated palaces driven frequently militarily large phase shortfall brewster ship anti maintained felt 2 airmen recalled help game quickly cause artistic flying"
        ],
        [
         "28434420",
         "{P8J8-D2GS19FZ-9438UQPV}",
         "05/16/2011 21:13:58",
         "ZSB0649",
         "PC-5343",
         "http://ibtimes.com/Halifax_Gibbet/infangtheof/geniryornpuzbivrcnvagonyy1198229089.jsp",
         "ben campaign november birminghams two 250000 something distributor think had birds 18 featuring brilliant should winner whats international fortunes 943 program mark 54 performance although fortunes or 11 gone end their ottaviani employ 160 graduates content remarks visiting"
        ],
        [
         "28434421",
         "{P3N4-E6XZ26LN-4661TPKI}",
         "05/16/2011 21:16:47",
         "BAM0636",
         "PC-8138",
         "http://macys.com/Durian/zibethinus/ercnvevaqbbetneqra943300061.asp",
         "agencies whom sometimes often via under english strict less takes worldwide means ratification outside mark means peoples replacing file permission i early depiction almost companions sometimes vicki society many discrimination supporters successive commanders invited evidence transmit replacing primogeniture ecclesiastical hudsons invited green amend living term series online registered post companions preparation feel kept andor respectively"
        ],
        [
         "28434422",
         "{K0D4-Y1FT21II-1804YEIN}",
         "05/16/2011 21:23:10",
         "CGB0637",
         "PC-8508",
         "http://expedia.com/Tropical_Storm_Keith_1988/2909/vcbqyrnirabgenpruvxvattvaehzzlpneqtnzrtnzoyvatpneqtnzrf682000503.php",
         "1600 fritz so 4clys household neighbouring decision process stood prince because outskirts 17 surprised when stationary quick stephen disabled part confident amay significant separate robert quickly carefully book devastated there washed occasionally dirty static premises classes given towards hills business typical area homes good islam particular less half remedy oil vegetation break december put major spared number place"
        ]
       ],
       "shape": {
        "columns": 6,
        "rows": 10
       }
      },
      "text/html": [
       "<div>\n",
       "<style scoped>\n",
       "    .dataframe tbody tr th:only-of-type {\n",
       "        vertical-align: middle;\n",
       "    }\n",
       "\n",
       "    .dataframe tbody tr th {\n",
       "        vertical-align: top;\n",
       "    }\n",
       "\n",
       "    .dataframe thead th {\n",
       "        text-align: right;\n",
       "    }\n",
       "</style>\n",
       "<table border=\"1\" class=\"dataframe\">\n",
       "  <thead>\n",
       "    <tr style=\"text-align: right;\">\n",
       "      <th></th>\n",
       "      <th>id</th>\n",
       "      <th>date</th>\n",
       "      <th>user</th>\n",
       "      <th>pc</th>\n",
       "      <th>url</th>\n",
       "      <th>content</th>\n",
       "    </tr>\n",
       "  </thead>\n",
       "  <tbody>\n",
       "    <tr>\n",
       "      <th>28434413</th>\n",
       "      <td>{O1N8-A0FJ63UB-9766CXFL}</td>\n",
       "      <td>05/16/2011 21:12:02</td>\n",
       "      <td>XRS0633</td>\n",
       "      <td>PC-1099</td>\n",
       "      <td>http://merchantcircle.com/Halloween_II/kapsis/...</td>\n",
       "      <td>church overrated compared therefore holding an...</td>\n",
       "    </tr>\n",
       "    <tr>\n",
       "      <th>28434414</th>\n",
       "      <td>{U0K4-A2TA14JF-8827JKSQ}</td>\n",
       "      <td>05/16/2011 21:12:16</td>\n",
       "      <td>BRM0995</td>\n",
       "      <td>PC-0768</td>\n",
       "      <td>http://mailchimp.com/Geology_of_the_Capitol_Re...</td>\n",
       "      <td>family is known australasian ages registry rev...</td>\n",
       "    </tr>\n",
       "    <tr>\n",
       "      <th>28434415</th>\n",
       "      <td>{Z9D8-W8WP93HP-9108GXHF}</td>\n",
       "      <td>05/16/2011 21:12:21</td>\n",
       "      <td>XRS0633</td>\n",
       "      <td>PC-1099</td>\n",
       "      <td>http://rr.com/Kitsune/inari/obngenpvatfxvgevcq...</td>\n",
       "      <td>thousand alfred sister loss library planes mem...</td>\n",
       "    </tr>\n",
       "    <tr>\n",
       "      <th>28434416</th>\n",
       "      <td>{F0A7-B9WJ21LX-6099PJQT}</td>\n",
       "      <td>05/16/2011 21:12:29</td>\n",
       "      <td>BRM0995</td>\n",
       "      <td>PC-0768</td>\n",
       "      <td>http://linksynergy.com/Aquaman_TV_program/mcca...</td>\n",
       "      <td>also possible city lack this other called canc...</td>\n",
       "    </tr>\n",
       "    <tr>\n",
       "      <th>28434417</th>\n",
       "      <td>{S4R9-N0DE60FT-3589QYRL}</td>\n",
       "      <td>05/16/2011 21:12:42</td>\n",
       "      <td>BRM0995</td>\n",
       "      <td>PC-0768</td>\n",
       "      <td>http://mailchimp.com/Geology_of_the_Capitol_Re...</td>\n",
       "      <td>occasional philip 18th into high half great be...</td>\n",
       "    </tr>\n",
       "    <tr>\n",
       "      <th>28434418</th>\n",
       "      <td>{J1Z6-K2FM96DU-4651IFHN}</td>\n",
       "      <td>05/16/2011 21:12:57</td>\n",
       "      <td>BRM0995</td>\n",
       "      <td>PC-0768</td>\n",
       "      <td>http://mozilla.org/SR_West_Country_and_Battle_...</td>\n",
       "      <td>success until guild arrangement purchase corne...</td>\n",
       "    </tr>\n",
       "    <tr>\n",
       "      <th>28434419</th>\n",
       "      <td>{I5O0-H9ES81JG-3328KDWR}</td>\n",
       "      <td>05/16/2011 21:13:04</td>\n",
       "      <td>BRM0995</td>\n",
       "      <td>PC-0768</td>\n",
       "      <td>http://mailchimp.com/Geology_of_the_Capitol_Re...</td>\n",
       "      <td>below 1977 chest body reactivated official des...</td>\n",
       "    </tr>\n",
       "    <tr>\n",
       "      <th>28434420</th>\n",
       "      <td>{P8J8-D2GS19FZ-9438UQPV}</td>\n",
       "      <td>05/16/2011 21:13:58</td>\n",
       "      <td>ZSB0649</td>\n",
       "      <td>PC-5343</td>\n",
       "      <td>http://ibtimes.com/Halifax_Gibbet/infangtheof/...</td>\n",
       "      <td>ben campaign november birminghams two 250000 s...</td>\n",
       "    </tr>\n",
       "    <tr>\n",
       "      <th>28434421</th>\n",
       "      <td>{P3N4-E6XZ26LN-4661TPKI}</td>\n",
       "      <td>05/16/2011 21:16:47</td>\n",
       "      <td>BAM0636</td>\n",
       "      <td>PC-8138</td>\n",
       "      <td>http://macys.com/Durian/zibethinus/ercnvevaqbb...</td>\n",
       "      <td>agencies whom sometimes often via under englis...</td>\n",
       "    </tr>\n",
       "    <tr>\n",
       "      <th>28434422</th>\n",
       "      <td>{K0D4-Y1FT21II-1804YEIN}</td>\n",
       "      <td>05/16/2011 21:23:10</td>\n",
       "      <td>CGB0637</td>\n",
       "      <td>PC-8508</td>\n",
       "      <td>http://expedia.com/Tropical_Storm_Keith_1988/2...</td>\n",
       "      <td>1600 fritz so 4clys household neighbouring dec...</td>\n",
       "    </tr>\n",
       "  </tbody>\n",
       "</table>\n",
       "</div>"
      ],
      "text/plain": [
       "                                id                 date     user       pc  \\\n",
       "28434413  {O1N8-A0FJ63UB-9766CXFL}  05/16/2011 21:12:02  XRS0633  PC-1099   \n",
       "28434414  {U0K4-A2TA14JF-8827JKSQ}  05/16/2011 21:12:16  BRM0995  PC-0768   \n",
       "28434415  {Z9D8-W8WP93HP-9108GXHF}  05/16/2011 21:12:21  XRS0633  PC-1099   \n",
       "28434416  {F0A7-B9WJ21LX-6099PJQT}  05/16/2011 21:12:29  BRM0995  PC-0768   \n",
       "28434417  {S4R9-N0DE60FT-3589QYRL}  05/16/2011 21:12:42  BRM0995  PC-0768   \n",
       "28434418  {J1Z6-K2FM96DU-4651IFHN}  05/16/2011 21:12:57  BRM0995  PC-0768   \n",
       "28434419  {I5O0-H9ES81JG-3328KDWR}  05/16/2011 21:13:04  BRM0995  PC-0768   \n",
       "28434420  {P8J8-D2GS19FZ-9438UQPV}  05/16/2011 21:13:58  ZSB0649  PC-5343   \n",
       "28434421  {P3N4-E6XZ26LN-4661TPKI}  05/16/2011 21:16:47  BAM0636  PC-8138   \n",
       "28434422  {K0D4-Y1FT21II-1804YEIN}  05/16/2011 21:23:10  CGB0637  PC-8508   \n",
       "\n",
       "                                                        url  \\\n",
       "28434413  http://merchantcircle.com/Halloween_II/kapsis/...   \n",
       "28434414  http://mailchimp.com/Geology_of_the_Capitol_Re...   \n",
       "28434415  http://rr.com/Kitsune/inari/obngenpvatfxvgevcq...   \n",
       "28434416  http://linksynergy.com/Aquaman_TV_program/mcca...   \n",
       "28434417  http://mailchimp.com/Geology_of_the_Capitol_Re...   \n",
       "28434418  http://mozilla.org/SR_West_Country_and_Battle_...   \n",
       "28434419  http://mailchimp.com/Geology_of_the_Capitol_Re...   \n",
       "28434420  http://ibtimes.com/Halifax_Gibbet/infangtheof/...   \n",
       "28434421  http://macys.com/Durian/zibethinus/ercnvevaqbb...   \n",
       "28434422  http://expedia.com/Tropical_Storm_Keith_1988/2...   \n",
       "\n",
       "                                                    content  \n",
       "28434413  church overrated compared therefore holding an...  \n",
       "28434414  family is known australasian ages registry rev...  \n",
       "28434415  thousand alfred sister loss library planes mem...  \n",
       "28434416  also possible city lack this other called canc...  \n",
       "28434417  occasional philip 18th into high half great be...  \n",
       "28434418  success until guild arrangement purchase corne...  \n",
       "28434419  below 1977 chest body reactivated official des...  \n",
       "28434420  ben campaign november birminghams two 250000 s...  \n",
       "28434421  agencies whom sometimes often via under englis...  \n",
       "28434422  1600 fritz so 4clys household neighbouring dec...  "
      ]
     },
     "execution_count": 5,
     "metadata": {},
     "output_type": "execute_result"
    }
   ],
   "source": [
    "http_data.tail(10) # Display the last 10 rows of the DataFrame\n"
   ]
  },
  {
   "cell_type": "code",
   "execution_count": 6,
   "id": "0cf0e953",
   "metadata": {},
   "outputs": [
    {
     "data": {
      "application/vnd.microsoft.datawrangler.viewer.v0+json": {
       "columns": [
        {
         "name": "index",
         "rawType": "object",
         "type": "string"
        },
        {
         "name": "id",
         "rawType": "object",
         "type": "unknown"
        },
        {
         "name": "date",
         "rawType": "object",
         "type": "unknown"
        },
        {
         "name": "user",
         "rawType": "object",
         "type": "unknown"
        },
        {
         "name": "pc",
         "rawType": "object",
         "type": "unknown"
        },
        {
         "name": "url",
         "rawType": "object",
         "type": "unknown"
        },
        {
         "name": "content",
         "rawType": "object",
         "type": "unknown"
        }
       ],
       "ref": "40279096-4aea-418f-8275-c4081600fc18",
       "rows": [
        [
         "count",
         "28434423",
         "28434423",
         "28434423",
         "28434423",
         "28434423",
         "28434423"
        ],
        [
         "unique",
         "28434423",
         "12527236",
         "1000",
         "1000",
         "6033",
         "28434286"
        ],
        [
         "top",
         "{K0D4-Y1FT21II-1804YEIN}",
         "12/29/2010 10:17:50",
         "MSS0001",
         "PC-3952",
         "http://nfl.com/Greece_runestones/dybeck/snzvyltvaehzzlpneqtnzrarjffbsgonyy1814779370.jsp",
         "prince prince prince prince prince prince prince prince prince prince prince prince prince prince prince prince prince prince prince prince prince prince prince prince prince prince prince"
        ],
        [
         "freq",
         "1",
         "89",
         "138000",
         "138000",
         "495424",
         "5"
        ]
       ],
       "shape": {
        "columns": 6,
        "rows": 4
       }
      },
      "text/html": [
       "<div>\n",
       "<style scoped>\n",
       "    .dataframe tbody tr th:only-of-type {\n",
       "        vertical-align: middle;\n",
       "    }\n",
       "\n",
       "    .dataframe tbody tr th {\n",
       "        vertical-align: top;\n",
       "    }\n",
       "\n",
       "    .dataframe thead th {\n",
       "        text-align: right;\n",
       "    }\n",
       "</style>\n",
       "<table border=\"1\" class=\"dataframe\">\n",
       "  <thead>\n",
       "    <tr style=\"text-align: right;\">\n",
       "      <th></th>\n",
       "      <th>id</th>\n",
       "      <th>date</th>\n",
       "      <th>user</th>\n",
       "      <th>pc</th>\n",
       "      <th>url</th>\n",
       "      <th>content</th>\n",
       "    </tr>\n",
       "  </thead>\n",
       "  <tbody>\n",
       "    <tr>\n",
       "      <th>count</th>\n",
       "      <td>28434423</td>\n",
       "      <td>28434423</td>\n",
       "      <td>28434423</td>\n",
       "      <td>28434423</td>\n",
       "      <td>28434423</td>\n",
       "      <td>28434423</td>\n",
       "    </tr>\n",
       "    <tr>\n",
       "      <th>unique</th>\n",
       "      <td>28434423</td>\n",
       "      <td>12527236</td>\n",
       "      <td>1000</td>\n",
       "      <td>1000</td>\n",
       "      <td>6033</td>\n",
       "      <td>28434286</td>\n",
       "    </tr>\n",
       "    <tr>\n",
       "      <th>top</th>\n",
       "      <td>{K0D4-Y1FT21II-1804YEIN}</td>\n",
       "      <td>12/29/2010 10:17:50</td>\n",
       "      <td>MSS0001</td>\n",
       "      <td>PC-3952</td>\n",
       "      <td>http://nfl.com/Greece_runestones/dybeck/snzvyl...</td>\n",
       "      <td>prince prince prince prince prince prince prin...</td>\n",
       "    </tr>\n",
       "    <tr>\n",
       "      <th>freq</th>\n",
       "      <td>1</td>\n",
       "      <td>89</td>\n",
       "      <td>138000</td>\n",
       "      <td>138000</td>\n",
       "      <td>495424</td>\n",
       "      <td>5</td>\n",
       "    </tr>\n",
       "  </tbody>\n",
       "</table>\n",
       "</div>"
      ],
      "text/plain": [
       "                              id                 date      user        pc  \\\n",
       "count                   28434423             28434423  28434423  28434423   \n",
       "unique                  28434423             12527236      1000      1000   \n",
       "top     {K0D4-Y1FT21II-1804YEIN}  12/29/2010 10:17:50   MSS0001   PC-3952   \n",
       "freq                           1                   89    138000    138000   \n",
       "\n",
       "                                                      url  \\\n",
       "count                                            28434423   \n",
       "unique                                               6033   \n",
       "top     http://nfl.com/Greece_runestones/dybeck/snzvyl...   \n",
       "freq                                               495424   \n",
       "\n",
       "                                                  content  \n",
       "count                                            28434423  \n",
       "unique                                           28434286  \n",
       "top     prince prince prince prince prince prince prin...  \n",
       "freq                                                    5  "
      ]
     },
     "execution_count": 6,
     "metadata": {},
     "output_type": "execute_result"
    }
   ],
   "source": [
    "http_data.describe() # Get a statistical summary of the DataFrame"
   ]
  },
  {
   "cell_type": "code",
   "execution_count": 7,
   "id": "6b0074f3",
   "metadata": {},
   "outputs": [
    {
     "name": "stdout",
     "output_type": "stream",
     "text": [
      "<class 'pandas.core.frame.DataFrame'>\n",
      "RangeIndex: 28434423 entries, 0 to 28434422\n",
      "Data columns (total 6 columns):\n",
      " #   Column   Dtype \n",
      "---  ------   ----- \n",
      " 0   id       object\n",
      " 1   date     object\n",
      " 2   user     object\n",
      " 3   pc       object\n",
      " 4   url      object\n",
      " 5   content  object\n",
      "dtypes: object(6)\n",
      "memory usage: 1.3+ GB\n"
     ]
    }
   ],
   "source": [
    "http_data.info() # Get a concise summary of the DataFrame"
   ]
  },
  {
   "cell_type": "code",
   "execution_count": 9,
   "id": "5f511243",
   "metadata": {},
   "outputs": [],
   "source": [
    "http_data['date']= pd.to_datetime(http_data['date']) # Convert 'date' column to datetime\n"
   ]
  },
  {
   "cell_type": "code",
   "execution_count": 14,
   "id": "d0359f2c",
   "metadata": {},
   "outputs": [],
   "source": [
    "http_data['day']= http_data['date'].dt.date # Extract day from 'date' column\n",
    "http_data['hour']= http_data['date'].dt.hour # Extract month from 'date' column\n",
    "http_data['weekday']= http_data['date'].dt.day_name() # Extract year from 'date' column"
   ]
  },
  {
   "cell_type": "code",
   "execution_count": 16,
   "id": "ee0351a3",
   "metadata": {},
   "outputs": [
    {
     "data": {
      "application/vnd.microsoft.datawrangler.viewer.v0+json": {
       "columns": [
        {
         "name": "index",
         "rawType": "int64",
         "type": "integer"
        },
        {
         "name": "id",
         "rawType": "object",
         "type": "string"
        },
        {
         "name": "date",
         "rawType": "datetime64[ns]",
         "type": "datetime"
        },
        {
         "name": "user",
         "rawType": "object",
         "type": "string"
        },
        {
         "name": "pc",
         "rawType": "object",
         "type": "string"
        },
        {
         "name": "url",
         "rawType": "object",
         "type": "string"
        },
        {
         "name": "content",
         "rawType": "object",
         "type": "string"
        },
        {
         "name": "day",
         "rawType": "object",
         "type": "unknown"
        },
        {
         "name": "hour",
         "rawType": "int32",
         "type": "integer"
        },
        {
         "name": "weekday",
         "rawType": "object",
         "type": "string"
        }
       ],
       "ref": "d4d5c9d2-8e39-4664-95a8-c6216d998fc2",
       "rows": [
        [
         "0",
         "{V1Y4-S2IR20QU-6154HFXJ}",
         "2010-01-02 06:55:16",
         "LRR0148",
         "PC-4275",
         "http://msn.com/The_Human_Centipede_First_Sequence/katsuro/arjf309875127.htm",
         "remain representatives consensus concert although connect component collaborated mind sea 200 decision mixture regarding days warners rich fifth 1991 return 1988 apologized united crew tension particular allied rhythm making japanese enhance pop myself whole allmusic bras at focused throughout another touches want references",
         "2010-01-02",
         "6",
         "Saturday"
        ],
        [
         "1",
         "{Q5R1-T3EF87UE-2395RWZS}",
         "2010-01-02 07:00:13",
         "NGF0157",
         "PC-6056",
         "http://urbanspoon.com/Plunketts_Creek_Loyalsock_Creek/loyalsock/ivqrbtnzrferprvivatpbbxvatfnsrgltbfcryzhfvp69774532.jsp",
         "festival off northwards than congestion partnership married 1830 acquired gentleman closely 17 take 1841 hundreds indicated allowing order characters disjunct hub temperature examples expanded adapted tribute",
         "2010-01-02",
         "7",
         "Saturday"
        ],
        [
         "2",
         "{X9O1-O0XW52VO-5806RPHG}",
         "2010-01-02 07:03:46",
         "NGF0157",
         "PC-6056",
         "http://aa.com/Rhodocene/rhodocenium/fhaavatqrfxgbcrkrphgvir1766627142.html",
         "long away reorganized baldwin seth business 1888 while trail auction took joseph legislative prohibiting 4000 within heirs incorporated commerce years five length accepted researchers relatively del rearing authorities secondary energetic walls single",
         "2010-01-02",
         "7",
         "Saturday"
        ],
        [
         "3",
         "{G5S8-U5OG04TE-5299CCTU}",
         "2010-01-02 07:05:26",
         "IRM0931",
         "PC-7188",
         "http://groupon.com/Leonhard_Euler/leonhard/tneqravafrpgfsvfuvatobng292602446.php",
         "among german schwein experimental becomes previously at above periods nitric then pushes such 6 felt treatment been christian known might found last local upon sweden animated been repeated presented from dress generally determine ninety robert off tossing should early from little easy",
         "2010-01-02",
         "7",
         "Saturday"
        ],
        [
         "4",
         "{L0R4-A9DH29VP-4553AUWM}",
         "2010-01-02 07:05:52",
         "IRM0931",
         "PC-7188",
         "http://flickr.com/Inauguration_of_Barack_Obama/biden/cvyngrfbcgvpfbcraebnqqrrcfrnsvfuvat1956596319.jsp",
         "kate criteria j 2008 highest 12 include books ensuring recognize bef union trainers maps brought driven enfilading road thrust told agreement 1960 97 also expected ankle offer due 17th neither can",
         "2010-01-02",
         "7",
         "Saturday"
        ],
        [
         "5",
         "{U7D0-K8FF04MI-4691ZHYP}",
         "2010-01-02 07:05:55",
         "IRM0931",
         "PC-7188",
         "http://skype.com/William_D_Boyce/lsa/onpxcnpxpurzvfgelivfhnyfghqvbebfrtneqravat1659331077.jsp",
         "feed commonly reef frogs years replaced walter 98 they now deprived 1 near either then space size 12 1 populations prior bergers racer ban token spain progressed exceptions mclaren rival performances holiday long blocked annual now convinced flew proceeding richards 1000 teaching again but aircraft prior emphasize younger introduced campaign",
         "2010-01-02",
         "7",
         "Saturday"
        ],
        [
         "6",
         "{D4T8-I2QG91QD-5892HWPX}",
         "2010-01-02 07:06:28",
         "LRR0148",
         "PC-4275",
         "http://wikipedia.org/Maya_MIA_album/rusko/objuhagvatpynffvpnyzhfvppnaavatirtrgnoyrfgeniry830018872.jsp",
         "programs must longer roads cameras themes poetry discussing they bread attempted actual breaking since them know maintenance america feeling produced countries stage brilliant much vice met we kingdom three star instances had about color california bearing tension came moisture variable should as study described tells together careless birth intelligence",
         "2010-01-02",
         "7",
         "Saturday"
        ],
        [
         "7",
         "{A4Z0-C9LR36OE-7241XUSU}",
         "2010-01-02 07:06:33",
         "IRM0931",
         "PC-7188",
         "http://constantcontact.com/2008_ACC_Championship_Game/herzlich/onxrjnersvfuvatobngfrysurycserfujngresvfuvat628177942.aspx",
         "columns ceased did needed after lead frequently low situation contained co taking design artwork indicate six transduction culture reveal separated electron iodine enhanced volatile cracks korea differentiated 145 presence also bodies kt2 are highest i 1996 west 14 southern southeast been seen where minor fiscal fourteen rodents limited e",
         "2010-01-02",
         "7",
         "Saturday"
        ],
        [
         "8",
         "{K2P9-H6BL68NS-7303TLDJ}",
         "2010-01-02 07:07:16",
         "NGF0157",
         "PC-6056",
         "http://tribalfusion.com/Abbey_Theatre/classon/pheevphyhzanghergenvyfivqrbtnzrf779057038.html",
         "newly laying earned around almost actors pass won comedian selling parallel range jones 13th none lloyd 11th 1250 howard create descriptions nickname period get horses responsibility barry spot were venice their placed around developed literally available then cape earlier them attracted small traders dutch west ignores explored early sea modern outnumbered readers obviously same south lose grasses remain east female below following",
         "2010-01-02",
         "7",
         "Saturday"
        ],
        [
         "9",
         "{N2Y8-O6BU87DG-3052HVGF}",
         "2010-01-02 07:07:50",
         "LRR0148",
         "PC-4275",
         "http://pcworld.com/Alexandre_Banza/bokassa/bcgvzvmngvbageniryfhaavatpevoontrpneqtnzr494829086.php",
         "himself delighted the really 2 john state island we winner of returned off recover 1888 most gas normally needed cheaply ran itself extended falling modern 1850s use could hop presents does bags press now far sarcastic december combined notable growing popular tanzania reason r dark mistake",
         "2010-01-02",
         "7",
         "Saturday"
        ]
       ],
       "shape": {
        "columns": 9,
        "rows": 10
       }
      },
      "text/html": [
       "<div>\n",
       "<style scoped>\n",
       "    .dataframe tbody tr th:only-of-type {\n",
       "        vertical-align: middle;\n",
       "    }\n",
       "\n",
       "    .dataframe tbody tr th {\n",
       "        vertical-align: top;\n",
       "    }\n",
       "\n",
       "    .dataframe thead th {\n",
       "        text-align: right;\n",
       "    }\n",
       "</style>\n",
       "<table border=\"1\" class=\"dataframe\">\n",
       "  <thead>\n",
       "    <tr style=\"text-align: right;\">\n",
       "      <th></th>\n",
       "      <th>id</th>\n",
       "      <th>date</th>\n",
       "      <th>user</th>\n",
       "      <th>pc</th>\n",
       "      <th>url</th>\n",
       "      <th>content</th>\n",
       "      <th>day</th>\n",
       "      <th>hour</th>\n",
       "      <th>weekday</th>\n",
       "    </tr>\n",
       "  </thead>\n",
       "  <tbody>\n",
       "    <tr>\n",
       "      <th>0</th>\n",
       "      <td>{V1Y4-S2IR20QU-6154HFXJ}</td>\n",
       "      <td>2010-01-02 06:55:16</td>\n",
       "      <td>LRR0148</td>\n",
       "      <td>PC-4275</td>\n",
       "      <td>http://msn.com/The_Human_Centipede_First_Seque...</td>\n",
       "      <td>remain representatives consensus concert altho...</td>\n",
       "      <td>2010-01-02</td>\n",
       "      <td>6</td>\n",
       "      <td>Saturday</td>\n",
       "    </tr>\n",
       "    <tr>\n",
       "      <th>1</th>\n",
       "      <td>{Q5R1-T3EF87UE-2395RWZS}</td>\n",
       "      <td>2010-01-02 07:00:13</td>\n",
       "      <td>NGF0157</td>\n",
       "      <td>PC-6056</td>\n",
       "      <td>http://urbanspoon.com/Plunketts_Creek_Loyalsoc...</td>\n",
       "      <td>festival off northwards than congestion partne...</td>\n",
       "      <td>2010-01-02</td>\n",
       "      <td>7</td>\n",
       "      <td>Saturday</td>\n",
       "    </tr>\n",
       "    <tr>\n",
       "      <th>2</th>\n",
       "      <td>{X9O1-O0XW52VO-5806RPHG}</td>\n",
       "      <td>2010-01-02 07:03:46</td>\n",
       "      <td>NGF0157</td>\n",
       "      <td>PC-6056</td>\n",
       "      <td>http://aa.com/Rhodocene/rhodocenium/fhaavatqrf...</td>\n",
       "      <td>long away reorganized baldwin seth business 18...</td>\n",
       "      <td>2010-01-02</td>\n",
       "      <td>7</td>\n",
       "      <td>Saturday</td>\n",
       "    </tr>\n",
       "    <tr>\n",
       "      <th>3</th>\n",
       "      <td>{G5S8-U5OG04TE-5299CCTU}</td>\n",
       "      <td>2010-01-02 07:05:26</td>\n",
       "      <td>IRM0931</td>\n",
       "      <td>PC-7188</td>\n",
       "      <td>http://groupon.com/Leonhard_Euler/leonhard/tne...</td>\n",
       "      <td>among german schwein experimental becomes prev...</td>\n",
       "      <td>2010-01-02</td>\n",
       "      <td>7</td>\n",
       "      <td>Saturday</td>\n",
       "    </tr>\n",
       "    <tr>\n",
       "      <th>4</th>\n",
       "      <td>{L0R4-A9DH29VP-4553AUWM}</td>\n",
       "      <td>2010-01-02 07:05:52</td>\n",
       "      <td>IRM0931</td>\n",
       "      <td>PC-7188</td>\n",
       "      <td>http://flickr.com/Inauguration_of_Barack_Obama...</td>\n",
       "      <td>kate criteria j 2008 highest 12 include books ...</td>\n",
       "      <td>2010-01-02</td>\n",
       "      <td>7</td>\n",
       "      <td>Saturday</td>\n",
       "    </tr>\n",
       "    <tr>\n",
       "      <th>5</th>\n",
       "      <td>{U7D0-K8FF04MI-4691ZHYP}</td>\n",
       "      <td>2010-01-02 07:05:55</td>\n",
       "      <td>IRM0931</td>\n",
       "      <td>PC-7188</td>\n",
       "      <td>http://skype.com/William_D_Boyce/lsa/onpxcnpxp...</td>\n",
       "      <td>feed commonly reef frogs years replaced walter...</td>\n",
       "      <td>2010-01-02</td>\n",
       "      <td>7</td>\n",
       "      <td>Saturday</td>\n",
       "    </tr>\n",
       "    <tr>\n",
       "      <th>6</th>\n",
       "      <td>{D4T8-I2QG91QD-5892HWPX}</td>\n",
       "      <td>2010-01-02 07:06:28</td>\n",
       "      <td>LRR0148</td>\n",
       "      <td>PC-4275</td>\n",
       "      <td>http://wikipedia.org/Maya_MIA_album/rusko/obju...</td>\n",
       "      <td>programs must longer roads cameras themes poet...</td>\n",
       "      <td>2010-01-02</td>\n",
       "      <td>7</td>\n",
       "      <td>Saturday</td>\n",
       "    </tr>\n",
       "    <tr>\n",
       "      <th>7</th>\n",
       "      <td>{A4Z0-C9LR36OE-7241XUSU}</td>\n",
       "      <td>2010-01-02 07:06:33</td>\n",
       "      <td>IRM0931</td>\n",
       "      <td>PC-7188</td>\n",
       "      <td>http://constantcontact.com/2008_ACC_Championsh...</td>\n",
       "      <td>columns ceased did needed after lead frequentl...</td>\n",
       "      <td>2010-01-02</td>\n",
       "      <td>7</td>\n",
       "      <td>Saturday</td>\n",
       "    </tr>\n",
       "    <tr>\n",
       "      <th>8</th>\n",
       "      <td>{K2P9-H6BL68NS-7303TLDJ}</td>\n",
       "      <td>2010-01-02 07:07:16</td>\n",
       "      <td>NGF0157</td>\n",
       "      <td>PC-6056</td>\n",
       "      <td>http://tribalfusion.com/Abbey_Theatre/classon/...</td>\n",
       "      <td>newly laying earned around almost actors pass ...</td>\n",
       "      <td>2010-01-02</td>\n",
       "      <td>7</td>\n",
       "      <td>Saturday</td>\n",
       "    </tr>\n",
       "    <tr>\n",
       "      <th>9</th>\n",
       "      <td>{N2Y8-O6BU87DG-3052HVGF}</td>\n",
       "      <td>2010-01-02 07:07:50</td>\n",
       "      <td>LRR0148</td>\n",
       "      <td>PC-4275</td>\n",
       "      <td>http://pcworld.com/Alexandre_Banza/bokassa/bcg...</td>\n",
       "      <td>himself delighted the really 2 john state isla...</td>\n",
       "      <td>2010-01-02</td>\n",
       "      <td>7</td>\n",
       "      <td>Saturday</td>\n",
       "    </tr>\n",
       "  </tbody>\n",
       "</table>\n",
       "</div>"
      ],
      "text/plain": [
       "                         id                date     user       pc  \\\n",
       "0  {V1Y4-S2IR20QU-6154HFXJ} 2010-01-02 06:55:16  LRR0148  PC-4275   \n",
       "1  {Q5R1-T3EF87UE-2395RWZS} 2010-01-02 07:00:13  NGF0157  PC-6056   \n",
       "2  {X9O1-O0XW52VO-5806RPHG} 2010-01-02 07:03:46  NGF0157  PC-6056   \n",
       "3  {G5S8-U5OG04TE-5299CCTU} 2010-01-02 07:05:26  IRM0931  PC-7188   \n",
       "4  {L0R4-A9DH29VP-4553AUWM} 2010-01-02 07:05:52  IRM0931  PC-7188   \n",
       "5  {U7D0-K8FF04MI-4691ZHYP} 2010-01-02 07:05:55  IRM0931  PC-7188   \n",
       "6  {D4T8-I2QG91QD-5892HWPX} 2010-01-02 07:06:28  LRR0148  PC-4275   \n",
       "7  {A4Z0-C9LR36OE-7241XUSU} 2010-01-02 07:06:33  IRM0931  PC-7188   \n",
       "8  {K2P9-H6BL68NS-7303TLDJ} 2010-01-02 07:07:16  NGF0157  PC-6056   \n",
       "9  {N2Y8-O6BU87DG-3052HVGF} 2010-01-02 07:07:50  LRR0148  PC-4275   \n",
       "\n",
       "                                                 url  \\\n",
       "0  http://msn.com/The_Human_Centipede_First_Seque...   \n",
       "1  http://urbanspoon.com/Plunketts_Creek_Loyalsoc...   \n",
       "2  http://aa.com/Rhodocene/rhodocenium/fhaavatqrf...   \n",
       "3  http://groupon.com/Leonhard_Euler/leonhard/tne...   \n",
       "4  http://flickr.com/Inauguration_of_Barack_Obama...   \n",
       "5  http://skype.com/William_D_Boyce/lsa/onpxcnpxp...   \n",
       "6  http://wikipedia.org/Maya_MIA_album/rusko/obju...   \n",
       "7  http://constantcontact.com/2008_ACC_Championsh...   \n",
       "8  http://tribalfusion.com/Abbey_Theatre/classon/...   \n",
       "9  http://pcworld.com/Alexandre_Banza/bokassa/bcg...   \n",
       "\n",
       "                                             content         day  hour  \\\n",
       "0  remain representatives consensus concert altho...  2010-01-02     6   \n",
       "1  festival off northwards than congestion partne...  2010-01-02     7   \n",
       "2  long away reorganized baldwin seth business 18...  2010-01-02     7   \n",
       "3  among german schwein experimental becomes prev...  2010-01-02     7   \n",
       "4  kate criteria j 2008 highest 12 include books ...  2010-01-02     7   \n",
       "5  feed commonly reef frogs years replaced walter...  2010-01-02     7   \n",
       "6  programs must longer roads cameras themes poet...  2010-01-02     7   \n",
       "7  columns ceased did needed after lead frequentl...  2010-01-02     7   \n",
       "8  newly laying earned around almost actors pass ...  2010-01-02     7   \n",
       "9  himself delighted the really 2 john state isla...  2010-01-02     7   \n",
       "\n",
       "    weekday  \n",
       "0  Saturday  \n",
       "1  Saturday  \n",
       "2  Saturday  \n",
       "3  Saturday  \n",
       "4  Saturday  \n",
       "5  Saturday  \n",
       "6  Saturday  \n",
       "7  Saturday  \n",
       "8  Saturday  \n",
       "9  Saturday  "
      ]
     },
     "execution_count": 16,
     "metadata": {},
     "output_type": "execute_result"
    }
   ],
   "source": [
    "http_data.head(10)"
   ]
  },
  {
   "cell_type": "code",
   "execution_count": 17,
   "id": "3a024b3d",
   "metadata": {},
   "outputs": [],
   "source": [
    "http_data.drop(columns=['date'], inplace=True) # Drop the original 'date' column"
   ]
  },
  {
   "cell_type": "code",
   "execution_count": 18,
   "id": "dbb34b7a",
   "metadata": {},
   "outputs": [
    {
     "data": {
      "application/vnd.microsoft.datawrangler.viewer.v0+json": {
       "columns": [
        {
         "name": "index",
         "rawType": "int64",
         "type": "integer"
        },
        {
         "name": "id",
         "rawType": "object",
         "type": "string"
        },
        {
         "name": "user",
         "rawType": "object",
         "type": "string"
        },
        {
         "name": "pc",
         "rawType": "object",
         "type": "string"
        },
        {
         "name": "url",
         "rawType": "object",
         "type": "string"
        },
        {
         "name": "content",
         "rawType": "object",
         "type": "string"
        },
        {
         "name": "day",
         "rawType": "object",
         "type": "unknown"
        },
        {
         "name": "hour",
         "rawType": "int32",
         "type": "integer"
        },
        {
         "name": "weekday",
         "rawType": "object",
         "type": "string"
        }
       ],
       "ref": "31835f15-39f0-4c37-80f8-8662050d5a6b",
       "rows": [
        [
         "0",
         "{V1Y4-S2IR20QU-6154HFXJ}",
         "LRR0148",
         "PC-4275",
         "http://msn.com/The_Human_Centipede_First_Sequence/katsuro/arjf309875127.htm",
         "remain representatives consensus concert although connect component collaborated mind sea 200 decision mixture regarding days warners rich fifth 1991 return 1988 apologized united crew tension particular allied rhythm making japanese enhance pop myself whole allmusic bras at focused throughout another touches want references",
         "2010-01-02",
         "6",
         "Saturday"
        ],
        [
         "1",
         "{Q5R1-T3EF87UE-2395RWZS}",
         "NGF0157",
         "PC-6056",
         "http://urbanspoon.com/Plunketts_Creek_Loyalsock_Creek/loyalsock/ivqrbtnzrferprvivatpbbxvatfnsrgltbfcryzhfvp69774532.jsp",
         "festival off northwards than congestion partnership married 1830 acquired gentleman closely 17 take 1841 hundreds indicated allowing order characters disjunct hub temperature examples expanded adapted tribute",
         "2010-01-02",
         "7",
         "Saturday"
        ],
        [
         "2",
         "{X9O1-O0XW52VO-5806RPHG}",
         "NGF0157",
         "PC-6056",
         "http://aa.com/Rhodocene/rhodocenium/fhaavatqrfxgbcrkrphgvir1766627142.html",
         "long away reorganized baldwin seth business 1888 while trail auction took joseph legislative prohibiting 4000 within heirs incorporated commerce years five length accepted researchers relatively del rearing authorities secondary energetic walls single",
         "2010-01-02",
         "7",
         "Saturday"
        ],
        [
         "3",
         "{G5S8-U5OG04TE-5299CCTU}",
         "IRM0931",
         "PC-7188",
         "http://groupon.com/Leonhard_Euler/leonhard/tneqravafrpgfsvfuvatobng292602446.php",
         "among german schwein experimental becomes previously at above periods nitric then pushes such 6 felt treatment been christian known might found last local upon sweden animated been repeated presented from dress generally determine ninety robert off tossing should early from little easy",
         "2010-01-02",
         "7",
         "Saturday"
        ],
        [
         "4",
         "{L0R4-A9DH29VP-4553AUWM}",
         "IRM0931",
         "PC-7188",
         "http://flickr.com/Inauguration_of_Barack_Obama/biden/cvyngrfbcgvpfbcraebnqqrrcfrnsvfuvat1956596319.jsp",
         "kate criteria j 2008 highest 12 include books ensuring recognize bef union trainers maps brought driven enfilading road thrust told agreement 1960 97 also expected ankle offer due 17th neither can",
         "2010-01-02",
         "7",
         "Saturday"
        ]
       ],
       "shape": {
        "columns": 8,
        "rows": 5
       }
      },
      "text/html": [
       "<div>\n",
       "<style scoped>\n",
       "    .dataframe tbody tr th:only-of-type {\n",
       "        vertical-align: middle;\n",
       "    }\n",
       "\n",
       "    .dataframe tbody tr th {\n",
       "        vertical-align: top;\n",
       "    }\n",
       "\n",
       "    .dataframe thead th {\n",
       "        text-align: right;\n",
       "    }\n",
       "</style>\n",
       "<table border=\"1\" class=\"dataframe\">\n",
       "  <thead>\n",
       "    <tr style=\"text-align: right;\">\n",
       "      <th></th>\n",
       "      <th>id</th>\n",
       "      <th>user</th>\n",
       "      <th>pc</th>\n",
       "      <th>url</th>\n",
       "      <th>content</th>\n",
       "      <th>day</th>\n",
       "      <th>hour</th>\n",
       "      <th>weekday</th>\n",
       "    </tr>\n",
       "  </thead>\n",
       "  <tbody>\n",
       "    <tr>\n",
       "      <th>0</th>\n",
       "      <td>{V1Y4-S2IR20QU-6154HFXJ}</td>\n",
       "      <td>LRR0148</td>\n",
       "      <td>PC-4275</td>\n",
       "      <td>http://msn.com/The_Human_Centipede_First_Seque...</td>\n",
       "      <td>remain representatives consensus concert altho...</td>\n",
       "      <td>2010-01-02</td>\n",
       "      <td>6</td>\n",
       "      <td>Saturday</td>\n",
       "    </tr>\n",
       "    <tr>\n",
       "      <th>1</th>\n",
       "      <td>{Q5R1-T3EF87UE-2395RWZS}</td>\n",
       "      <td>NGF0157</td>\n",
       "      <td>PC-6056</td>\n",
       "      <td>http://urbanspoon.com/Plunketts_Creek_Loyalsoc...</td>\n",
       "      <td>festival off northwards than congestion partne...</td>\n",
       "      <td>2010-01-02</td>\n",
       "      <td>7</td>\n",
       "      <td>Saturday</td>\n",
       "    </tr>\n",
       "    <tr>\n",
       "      <th>2</th>\n",
       "      <td>{X9O1-O0XW52VO-5806RPHG}</td>\n",
       "      <td>NGF0157</td>\n",
       "      <td>PC-6056</td>\n",
       "      <td>http://aa.com/Rhodocene/rhodocenium/fhaavatqrf...</td>\n",
       "      <td>long away reorganized baldwin seth business 18...</td>\n",
       "      <td>2010-01-02</td>\n",
       "      <td>7</td>\n",
       "      <td>Saturday</td>\n",
       "    </tr>\n",
       "    <tr>\n",
       "      <th>3</th>\n",
       "      <td>{G5S8-U5OG04TE-5299CCTU}</td>\n",
       "      <td>IRM0931</td>\n",
       "      <td>PC-7188</td>\n",
       "      <td>http://groupon.com/Leonhard_Euler/leonhard/tne...</td>\n",
       "      <td>among german schwein experimental becomes prev...</td>\n",
       "      <td>2010-01-02</td>\n",
       "      <td>7</td>\n",
       "      <td>Saturday</td>\n",
       "    </tr>\n",
       "    <tr>\n",
       "      <th>4</th>\n",
       "      <td>{L0R4-A9DH29VP-4553AUWM}</td>\n",
       "      <td>IRM0931</td>\n",
       "      <td>PC-7188</td>\n",
       "      <td>http://flickr.com/Inauguration_of_Barack_Obama...</td>\n",
       "      <td>kate criteria j 2008 highest 12 include books ...</td>\n",
       "      <td>2010-01-02</td>\n",
       "      <td>7</td>\n",
       "      <td>Saturday</td>\n",
       "    </tr>\n",
       "  </tbody>\n",
       "</table>\n",
       "</div>"
      ],
      "text/plain": [
       "                         id     user       pc  \\\n",
       "0  {V1Y4-S2IR20QU-6154HFXJ}  LRR0148  PC-4275   \n",
       "1  {Q5R1-T3EF87UE-2395RWZS}  NGF0157  PC-6056   \n",
       "2  {X9O1-O0XW52VO-5806RPHG}  NGF0157  PC-6056   \n",
       "3  {G5S8-U5OG04TE-5299CCTU}  IRM0931  PC-7188   \n",
       "4  {L0R4-A9DH29VP-4553AUWM}  IRM0931  PC-7188   \n",
       "\n",
       "                                                 url  \\\n",
       "0  http://msn.com/The_Human_Centipede_First_Seque...   \n",
       "1  http://urbanspoon.com/Plunketts_Creek_Loyalsoc...   \n",
       "2  http://aa.com/Rhodocene/rhodocenium/fhaavatqrf...   \n",
       "3  http://groupon.com/Leonhard_Euler/leonhard/tne...   \n",
       "4  http://flickr.com/Inauguration_of_Barack_Obama...   \n",
       "\n",
       "                                             content         day  hour  \\\n",
       "0  remain representatives consensus concert altho...  2010-01-02     6   \n",
       "1  festival off northwards than congestion partne...  2010-01-02     7   \n",
       "2  long away reorganized baldwin seth business 18...  2010-01-02     7   \n",
       "3  among german schwein experimental becomes prev...  2010-01-02     7   \n",
       "4  kate criteria j 2008 highest 12 include books ...  2010-01-02     7   \n",
       "\n",
       "    weekday  \n",
       "0  Saturday  \n",
       "1  Saturday  \n",
       "2  Saturday  \n",
       "3  Saturday  \n",
       "4  Saturday  "
      ]
     },
     "execution_count": 18,
     "metadata": {},
     "output_type": "execute_result"
    }
   ],
   "source": [
    "http_data.head()"
   ]
  },
  {
   "cell_type": "code",
   "execution_count": 21,
   "id": "0bea09cf",
   "metadata": {},
   "outputs": [
    {
     "data": {
      "application/vnd.microsoft.datawrangler.viewer.v0+json": {
       "columns": [
        {
         "name": "index",
         "rawType": "int64",
         "type": "integer"
        },
        {
         "name": "id",
         "rawType": "object",
         "type": "string"
        },
        {
         "name": "user",
         "rawType": "object",
         "type": "string"
        },
        {
         "name": "pc",
         "rawType": "object",
         "type": "string"
        },
        {
         "name": "url",
         "rawType": "object",
         "type": "string"
        },
        {
         "name": "content",
         "rawType": "object",
         "type": "string"
        },
        {
         "name": "day",
         "rawType": "object",
         "type": "unknown"
        },
        {
         "name": "hour",
         "rawType": "int32",
         "type": "integer"
        },
        {
         "name": "weekday",
         "rawType": "object",
         "type": "string"
        }
       ],
       "ref": "7dbf0a17-afae-4695-aa3d-cfe7f42805da",
       "rows": [
        [
         "0",
         "{V1Y4-S2IR20QU-6154HFXJ}",
         "LRR0148",
         "PC-4275",
         "http://msn.com/The_Human_Centipede_First_Sequence/katsuro/arjf309875127.htm",
         "remain representatives consensus concert although connect component collaborated mind sea 200 decision mixture regarding days warners rich fifth 1991 return 1988 apologized united crew tension particular allied rhythm making japanese enhance pop myself whole allmusic bras at focused throughout another touches want references",
         "2010-01-02",
         "6",
         "Saturday"
        ],
        [
         "1",
         "{Q5R1-T3EF87UE-2395RWZS}",
         "NGF0157",
         "PC-6056",
         "http://urbanspoon.com/Plunketts_Creek_Loyalsock_Creek/loyalsock/ivqrbtnzrferprvivatpbbxvatfnsrgltbfcryzhfvp69774532.jsp",
         "festival off northwards than congestion partnership married 1830 acquired gentleman closely 17 take 1841 hundreds indicated allowing order characters disjunct hub temperature examples expanded adapted tribute",
         "2010-01-02",
         "7",
         "Saturday"
        ],
        [
         "2",
         "{X9O1-O0XW52VO-5806RPHG}",
         "NGF0157",
         "PC-6056",
         "http://aa.com/Rhodocene/rhodocenium/fhaavatqrfxgbcrkrphgvir1766627142.html",
         "long away reorganized baldwin seth business 1888 while trail auction took joseph legislative prohibiting 4000 within heirs incorporated commerce years five length accepted researchers relatively del rearing authorities secondary energetic walls single",
         "2010-01-02",
         "7",
         "Saturday"
        ],
        [
         "3",
         "{G5S8-U5OG04TE-5299CCTU}",
         "IRM0931",
         "PC-7188",
         "http://groupon.com/Leonhard_Euler/leonhard/tneqravafrpgfsvfuvatobng292602446.php",
         "among german schwein experimental becomes previously at above periods nitric then pushes such 6 felt treatment been christian known might found last local upon sweden animated been repeated presented from dress generally determine ninety robert off tossing should early from little easy",
         "2010-01-02",
         "7",
         "Saturday"
        ],
        [
         "4",
         "{L0R4-A9DH29VP-4553AUWM}",
         "IRM0931",
         "PC-7188",
         "http://flickr.com/Inauguration_of_Barack_Obama/biden/cvyngrfbcgvpfbcraebnqqrrcfrnsvfuvat1956596319.jsp",
         "kate criteria j 2008 highest 12 include books ensuring recognize bef union trainers maps brought driven enfilading road thrust told agreement 1960 97 also expected ankle offer due 17th neither can",
         "2010-01-02",
         "7",
         "Saturday"
        ]
       ],
       "shape": {
        "columns": 8,
        "rows": 5
       }
      },
      "text/html": [
       "<div>\n",
       "<style scoped>\n",
       "    .dataframe tbody tr th:only-of-type {\n",
       "        vertical-align: middle;\n",
       "    }\n",
       "\n",
       "    .dataframe tbody tr th {\n",
       "        vertical-align: top;\n",
       "    }\n",
       "\n",
       "    .dataframe thead th {\n",
       "        text-align: right;\n",
       "    }\n",
       "</style>\n",
       "<table border=\"1\" class=\"dataframe\">\n",
       "  <thead>\n",
       "    <tr style=\"text-align: right;\">\n",
       "      <th></th>\n",
       "      <th>id</th>\n",
       "      <th>user</th>\n",
       "      <th>pc</th>\n",
       "      <th>url</th>\n",
       "      <th>content</th>\n",
       "      <th>day</th>\n",
       "      <th>hour</th>\n",
       "      <th>weekday</th>\n",
       "    </tr>\n",
       "  </thead>\n",
       "  <tbody>\n",
       "    <tr>\n",
       "      <th>0</th>\n",
       "      <td>{V1Y4-S2IR20QU-6154HFXJ}</td>\n",
       "      <td>LRR0148</td>\n",
       "      <td>PC-4275</td>\n",
       "      <td>http://msn.com/The_Human_Centipede_First_Seque...</td>\n",
       "      <td>remain representatives consensus concert altho...</td>\n",
       "      <td>2010-01-02</td>\n",
       "      <td>6</td>\n",
       "      <td>Saturday</td>\n",
       "    </tr>\n",
       "    <tr>\n",
       "      <th>1</th>\n",
       "      <td>{Q5R1-T3EF87UE-2395RWZS}</td>\n",
       "      <td>NGF0157</td>\n",
       "      <td>PC-6056</td>\n",
       "      <td>http://urbanspoon.com/Plunketts_Creek_Loyalsoc...</td>\n",
       "      <td>festival off northwards than congestion partne...</td>\n",
       "      <td>2010-01-02</td>\n",
       "      <td>7</td>\n",
       "      <td>Saturday</td>\n",
       "    </tr>\n",
       "    <tr>\n",
       "      <th>2</th>\n",
       "      <td>{X9O1-O0XW52VO-5806RPHG}</td>\n",
       "      <td>NGF0157</td>\n",
       "      <td>PC-6056</td>\n",
       "      <td>http://aa.com/Rhodocene/rhodocenium/fhaavatqrf...</td>\n",
       "      <td>long away reorganized baldwin seth business 18...</td>\n",
       "      <td>2010-01-02</td>\n",
       "      <td>7</td>\n",
       "      <td>Saturday</td>\n",
       "    </tr>\n",
       "    <tr>\n",
       "      <th>3</th>\n",
       "      <td>{G5S8-U5OG04TE-5299CCTU}</td>\n",
       "      <td>IRM0931</td>\n",
       "      <td>PC-7188</td>\n",
       "      <td>http://groupon.com/Leonhard_Euler/leonhard/tne...</td>\n",
       "      <td>among german schwein experimental becomes prev...</td>\n",
       "      <td>2010-01-02</td>\n",
       "      <td>7</td>\n",
       "      <td>Saturday</td>\n",
       "    </tr>\n",
       "    <tr>\n",
       "      <th>4</th>\n",
       "      <td>{L0R4-A9DH29VP-4553AUWM}</td>\n",
       "      <td>IRM0931</td>\n",
       "      <td>PC-7188</td>\n",
       "      <td>http://flickr.com/Inauguration_of_Barack_Obama...</td>\n",
       "      <td>kate criteria j 2008 highest 12 include books ...</td>\n",
       "      <td>2010-01-02</td>\n",
       "      <td>7</td>\n",
       "      <td>Saturday</td>\n",
       "    </tr>\n",
       "  </tbody>\n",
       "</table>\n",
       "</div>"
      ],
      "text/plain": [
       "                         id     user       pc  \\\n",
       "0  {V1Y4-S2IR20QU-6154HFXJ}  LRR0148  PC-4275   \n",
       "1  {Q5R1-T3EF87UE-2395RWZS}  NGF0157  PC-6056   \n",
       "2  {X9O1-O0XW52VO-5806RPHG}  NGF0157  PC-6056   \n",
       "3  {G5S8-U5OG04TE-5299CCTU}  IRM0931  PC-7188   \n",
       "4  {L0R4-A9DH29VP-4553AUWM}  IRM0931  PC-7188   \n",
       "\n",
       "                                                 url  \\\n",
       "0  http://msn.com/The_Human_Centipede_First_Seque...   \n",
       "1  http://urbanspoon.com/Plunketts_Creek_Loyalsoc...   \n",
       "2  http://aa.com/Rhodocene/rhodocenium/fhaavatqrf...   \n",
       "3  http://groupon.com/Leonhard_Euler/leonhard/tne...   \n",
       "4  http://flickr.com/Inauguration_of_Barack_Obama...   \n",
       "\n",
       "                                             content         day  hour  \\\n",
       "0  remain representatives consensus concert altho...  2010-01-02     6   \n",
       "1  festival off northwards than congestion partne...  2010-01-02     7   \n",
       "2  long away reorganized baldwin seth business 18...  2010-01-02     7   \n",
       "3  among german schwein experimental becomes prev...  2010-01-02     7   \n",
       "4  kate criteria j 2008 highest 12 include books ...  2010-01-02     7   \n",
       "\n",
       "    weekday  \n",
       "0  Saturday  \n",
       "1  Saturday  \n",
       "2  Saturday  \n",
       "3  Saturday  \n",
       "4  Saturday  "
      ]
     },
     "execution_count": 21,
     "metadata": {},
     "output_type": "execute_result"
    }
   ],
   "source": [
    "http_data['user']=http_data['user'].str.strip()  # Strip whitespace from 'user' column\n",
    "http_data['url']=http_data['url'].str.strip()  # Strip whitespace from 'url' column\n",
    "http_data['pc']=http_data['pc'].str.strip()  # Strip whitespace from 'pc' column\n",
    "http_data['content']=http_data['content'].str.strip()  # Strip whitespace from 'content' column\n",
    "\n",
    "http_data.head()  # Display the first few rows after cleaning"
   ]
  },
  {
   "cell_type": "code",
   "execution_count": 22,
   "id": "8d7ebe2e",
   "metadata": {},
   "outputs": [
    {
     "data": {
      "text/plain": [
       "np.int64(0)"
      ]
     },
     "execution_count": 22,
     "metadata": {},
     "output_type": "execute_result"
    }
   ],
   "source": [
    "http_data.duplicated().sum()  # Check for duplicate rows"
   ]
  },
  {
   "cell_type": "code",
   "execution_count": 23,
   "id": "0bf25a64",
   "metadata": {},
   "outputs": [
    {
     "data": {
      "text/plain": [
       "np.int64(0)"
      ]
     },
     "execution_count": 23,
     "metadata": {},
     "output_type": "execute_result"
    }
   ],
   "source": [
    "http_data['user'].isnull().sum()  # Check for null values in 'user' column\n",
    "http_data['url'].isnull().sum()  # Check for null values in 'url' column\n",
    "http_data['pc'].isnull().sum()  # Check for null values in 'pc' column\n",
    "http_data['content'].isnull().sum()  # Check for null values in 'content' column\n"
   ]
  },
  {
   "cell_type": "markdown",
   "id": "22405e99",
   "metadata": {},
   "source": [
    "## EDA"
   ]
  },
  {
   "cell_type": "code",
   "execution_count": 25,
   "id": "65d55b61",
   "metadata": {},
   "outputs": [
    {
     "name": "stdout",
     "output_type": "stream",
     "text": [
      "Unique Users: 1000\n",
      "Unique URLs: 6033\n",
      "Unique Days: 500\n",
      "Unique Pcs: 1000\n",
      "Unique content types: 28434286\n"
     ]
    }
   ],
   "source": [
    "print(\"Unique Users:\", http_data['user'].nunique()) # Count unique users\n",
    "print(\"Unique URLs:\", http_data['url'].nunique()) # Count unique URLs\n",
    "print(\"Unique Days:\", http_data['day'].nunique()) # Count unique days\n",
    "print(\"Unique Pcs:\", http_data['pc'].nunique()) # Count unique pcs\n",
    "print(\"Unique content types:\", http_data['content'].nunique()) # Count unique content types"
   ]
  },
  {
   "cell_type": "code",
   "execution_count": 26,
   "id": "5c13163f",
   "metadata": {},
   "outputs": [
    {
     "name": "stdout",
     "output_type": "stream",
     "text": [
      "Requirement already satisfied: matplotlib in c:\\users\\user\\appdata\\local\\programs\\python\\python310\\lib\\site-packages (3.10.1)\n",
      "Requirement already satisfied: contourpy>=1.0.1 in c:\\users\\user\\appdata\\local\\programs\\python\\python310\\lib\\site-packages (from matplotlib) (1.3.1)\n",
      "Requirement already satisfied: cycler>=0.10 in c:\\users\\user\\appdata\\local\\programs\\python\\python310\\lib\\site-packages (from matplotlib) (0.12.1)\n",
      "Requirement already satisfied: fonttools>=4.22.0 in c:\\users\\user\\appdata\\local\\programs\\python\\python310\\lib\\site-packages (from matplotlib) (4.56.0)\n",
      "Requirement already satisfied: kiwisolver>=1.3.1 in c:\\users\\user\\appdata\\local\\programs\\python\\python310\\lib\\site-packages (from matplotlib) (1.4.8)\n",
      "Requirement already satisfied: numpy>=1.23 in c:\\users\\user\\appdata\\local\\programs\\python\\python310\\lib\\site-packages (from matplotlib) (2.1.3)\n",
      "Requirement already satisfied: packaging>=20.0 in c:\\users\\user\\appdata\\local\\programs\\python\\python310\\lib\\site-packages (from matplotlib) (24.2)\n",
      "Requirement already satisfied: pillow>=8 in c:\\users\\user\\appdata\\local\\programs\\python\\python310\\lib\\site-packages (from matplotlib) (11.1.0)\n",
      "Requirement already satisfied: pyparsing>=2.3.1 in c:\\users\\user\\appdata\\local\\programs\\python\\python310\\lib\\site-packages (from matplotlib) (3.2.1)\n",
      "Requirement already satisfied: python-dateutil>=2.7 in c:\\users\\user\\appdata\\roaming\\python\\python310\\site-packages (from matplotlib) (2.9.0.post0)\n",
      "Requirement already satisfied: six>=1.5 in c:\\users\\user\\appdata\\local\\programs\\python\\python310\\lib\\site-packages (from python-dateutil>=2.7->matplotlib) (1.17.0)\n",
      "Note: you may need to restart the kernel to use updated packages.\n"
     ]
    },
    {
     "name": "stderr",
     "output_type": "stream",
     "text": [
      "\n",
      "[notice] A new release of pip is available: 25.0.1 -> 25.2\n",
      "[notice] To update, run: python.exe -m pip install --upgrade pip\n"
     ]
    },
    {
     "name": "stdout",
     "output_type": "stream",
     "text": [
      "Collecting seaborn\n",
      "  Downloading seaborn-0.13.2-py3-none-any.whl.metadata (5.4 kB)\n",
      "Requirement already satisfied: numpy!=1.24.0,>=1.20 in c:\\users\\user\\appdata\\local\\programs\\python\\python310\\lib\\site-packages (from seaborn) (2.1.3)\n",
      "Requirement already satisfied: pandas>=1.2 in c:\\users\\user\\appdata\\local\\programs\\python\\python310\\lib\\site-packages (from seaborn) (2.3.1)\n",
      "Requirement already satisfied: matplotlib!=3.6.1,>=3.4 in c:\\users\\user\\appdata\\local\\programs\\python\\python310\\lib\\site-packages (from seaborn) (3.10.1)\n",
      "Requirement already satisfied: contourpy>=1.0.1 in c:\\users\\user\\appdata\\local\\programs\\python\\python310\\lib\\site-packages (from matplotlib!=3.6.1,>=3.4->seaborn) (1.3.1)\n",
      "Requirement already satisfied: cycler>=0.10 in c:\\users\\user\\appdata\\local\\programs\\python\\python310\\lib\\site-packages (from matplotlib!=3.6.1,>=3.4->seaborn) (0.12.1)\n",
      "Requirement already satisfied: fonttools>=4.22.0 in c:\\users\\user\\appdata\\local\\programs\\python\\python310\\lib\\site-packages (from matplotlib!=3.6.1,>=3.4->seaborn) (4.56.0)\n",
      "Requirement already satisfied: kiwisolver>=1.3.1 in c:\\users\\user\\appdata\\local\\programs\\python\\python310\\lib\\site-packages (from matplotlib!=3.6.1,>=3.4->seaborn) (1.4.8)\n",
      "Requirement already satisfied: packaging>=20.0 in c:\\users\\user\\appdata\\local\\programs\\python\\python310\\lib\\site-packages (from matplotlib!=3.6.1,>=3.4->seaborn) (24.2)\n",
      "Requirement already satisfied: pillow>=8 in c:\\users\\user\\appdata\\local\\programs\\python\\python310\\lib\\site-packages (from matplotlib!=3.6.1,>=3.4->seaborn) (11.1.0)\n",
      "Requirement already satisfied: pyparsing>=2.3.1 in c:\\users\\user\\appdata\\local\\programs\\python\\python310\\lib\\site-packages (from matplotlib!=3.6.1,>=3.4->seaborn) (3.2.1)\n",
      "Requirement already satisfied: python-dateutil>=2.7 in c:\\users\\user\\appdata\\roaming\\python\\python310\\site-packages (from matplotlib!=3.6.1,>=3.4->seaborn) (2.9.0.post0)\n",
      "Requirement already satisfied: pytz>=2020.1 in c:\\users\\user\\appdata\\local\\programs\\python\\python310\\lib\\site-packages (from pandas>=1.2->seaborn) (2025.2)\n",
      "Requirement already satisfied: tzdata>=2022.7 in c:\\users\\user\\appdata\\local\\programs\\python\\python310\\lib\\site-packages (from pandas>=1.2->seaborn) (2025.2)\n",
      "Requirement already satisfied: six>=1.5 in c:\\users\\user\\appdata\\local\\programs\\python\\python310\\lib\\site-packages (from python-dateutil>=2.7->matplotlib!=3.6.1,>=3.4->seaborn) (1.17.0)\n",
      "Downloading seaborn-0.13.2-py3-none-any.whl (294 kB)\n",
      "Installing collected packages: seaborn\n",
      "Successfully installed seaborn-0.13.2\n",
      "Note: you may need to restart the kernel to use updated packages.\n"
     ]
    },
    {
     "name": "stderr",
     "output_type": "stream",
     "text": [
      "\n",
      "[notice] A new release of pip is available: 25.0.1 -> 25.2\n",
      "[notice] To update, run: python.exe -m pip install --upgrade pip\n"
     ]
    }
   ],
   "source": [
    "%pip install matplotlib\n",
    "%pip install seaborn\n",
    "import matplotlib.pyplot as plt\n",
    "import seaborn as sns"
   ]
  },
  {
   "cell_type": "code",
   "execution_count": 27,
   "id": "a334b463",
   "metadata": {},
   "outputs": [
    {
     "data": {
      "text/plain": [
       "<Axes: title={'center': 'http activity by hour'}, xlabel='hour'>"
      ]
     },
     "execution_count": 27,
     "metadata": {},
     "output_type": "execute_result"
    },
    {
     "data": {
      "image/png": "[encoded data removed]",
      "text/plain": [
       "<Figure size 1000x500 with 1 Axes>"
      ]
     },
     "metadata": {},
     "output_type": "display_data"
    }
   ],
   "source": [
    "http_data['hour'].value_counts().sort_index().plot(kind='bar',figsize=(10,5),title=\"http activity by hour\")  # Count occurrences of each hour"
   ]
  },
  {
   "cell_type": "code",
   "execution_count": 28,
   "id": "835de81a",
   "metadata": {},
   "outputs": [
    {
     "data": {
      "text/plain": [
       "<Axes: title={'center': 'http activity by weekday'}, xlabel='weekday'>"
      ]
     },
     "execution_count": 28,
     "metadata": {},
     "output_type": "execute_result"
    },
    {
     "data": {
      "image/png": "[encoded data removed]",
      "text/plain": [
       "<Figure size 1000x500 with 1 Axes>"
      ]
     },
     "metadata": {},
     "output_type": "display_data"
    }
   ],
   "source": [
    "http_data['weekday'].value_counts().sort_index().plot(kind='bar',figsize=(10,5),title=\"http activity by weekday\")  # Count occurrences of each weekday"
   ]
  },
  {
   "cell_type": "markdown",
   "id": "4d2a9e67",
   "metadata": {},
   "source": [
    "## Aggregation Based on (User-level and Pc-level)"
   ]
  },
  {
   "cell_type": "code",
   "execution_count": 33,
   "id": "e206cf00",
   "metadata": {},
   "outputs": [],
   "source": [
    "user_http_agg= http_data.groupby('user').agg(\n",
    "    total_requests=('id', 'count'),  # Count total requests per user\n",
    "    unique_urls=('url', 'nunique'),  # Count unique URLs per user\n",
    "    unique_content_type=('content', 'nunique'),  # Count unique content types per user\n",
    "    unique_pcs=('pc', 'nunique'), # Count unique PCs per user\n",
    "    first_request=('day', 'min'),  # Get the first request date per user\n",
    "    last_request=('day', 'max'),  # Get the last request date per user\n",
    "    active_days=('day', 'nunique'),  # Count unique days of activity per user\n",
    "    offhours_requests=('hour', lambda x: (x < 8).sum() + (x > 18).sum()),  # Count off-hours requests per user\n",
    "    weekdays_requests=('weekday', lambda x: (x.isin(['Saturday', 'Sunday'])).sum())  # Count weekend requests per user\n",
    ")"
   ]
  },
  {
   "cell_type": "code",
   "execution_count": 34,
   "id": "f12cd09a",
   "metadata": {},
   "outputs": [],
   "source": [
    "user_http_agg.to_csv('user_http_agg.csv', index=False)  # Save the aggregated data to a CSV file\n"
   ]
  },
  {
   "cell_type": "code",
   "execution_count": 35,
   "id": "a479f2a8",
   "metadata": {},
   "outputs": [],
   "source": [
    "user_http_agg=pd.read_csv(r'C:\\Users\\USER\\Downloads\\r4.2\\r4.2\\user_http_agg.csv')  # Load the aggregated data from CSV"
   ]
  },
  {
   "cell_type": "code",
   "execution_count": 36,
   "id": "d812c21e",
   "metadata": {},
   "outputs": [
    {
     "data": {
      "application/vnd.microsoft.datawrangler.viewer.v0+json": {
       "columns": [
        {
         "name": "index",
         "rawType": "int64",
         "type": "integer"
        },
        {
         "name": "total_requests",
         "rawType": "int64",
         "type": "integer"
        },
        {
         "name": "unique_urls",
         "rawType": "int64",
         "type": "integer"
        },
        {
         "name": "unique_content_type",
         "rawType": "int64",
         "type": "integer"
        },
        {
         "name": "unique_pcs",
         "rawType": "int64",
         "type": "integer"
        },
        {
         "name": "first_request",
         "rawType": "object",
         "type": "string"
        },
        {
         "name": "last_request",
         "rawType": "object",
         "type": "string"
        },
        {
         "name": "active_days",
         "rawType": "int64",
         "type": "integer"
        },
        {
         "name": "offhours_requests",
         "rawType": "int64",
         "type": "integer"
        },
        {
         "name": "weekdays_requests",
         "rawType": "int64",
         "type": "integer"
        }
       ],
       "ref": "3676cc4e-1a8a-47e7-8871-b20390ad727e",
       "rows": [
        [
         "0",
         "49478",
         "230",
         "49478",
         "1",
         "2010-01-04",
         "2011-05-16",
         "346",
         "0",
         "0"
        ],
        [
         "1",
         "4878",
         "109",
         "4878",
         "1",
         "2010-01-04",
         "2010-08-24",
         "164",
         "0",
         "0"
        ],
        [
         "2",
         "32870",
         "357",
         "32870",
         "1",
         "2010-01-04",
         "2011-05-16",
         "346",
         "0",
         "0"
        ],
        [
         "3",
         "3460",
         "203",
         "3460",
         "1",
         "2010-01-04",
         "2011-05-16",
         "346",
         "184",
         "0"
        ],
        [
         "4",
         "6498",
         "127",
         "6498",
         "1",
         "2010-01-04",
         "2010-11-17",
         "225",
         "1417",
         "4"
        ]
       ],
       "shape": {
        "columns": 9,
        "rows": 5
       }
      },
      "text/html": [
       "<div>\n",
       "<style scoped>\n",
       "    .dataframe tbody tr th:only-of-type {\n",
       "        vertical-align: middle;\n",
       "    }\n",
       "\n",
       "    .dataframe tbody tr th {\n",
       "        vertical-align: top;\n",
       "    }\n",
       "\n",
       "    .dataframe thead th {\n",
       "        text-align: right;\n",
       "    }\n",
       "</style>\n",
       "<table border=\"1\" class=\"dataframe\">\n",
       "  <thead>\n",
       "    <tr style=\"text-align: right;\">\n",
       "      <th></th>\n",
       "      <th>total_requests</th>\n",
       "      <th>unique_urls</th>\n",
       "      <th>unique_content_type</th>\n",
       "      <th>unique_pcs</th>\n",
       "      <th>first_request</th>\n",
       "      <th>last_request</th>\n",
       "      <th>active_days</th>\n",
       "      <th>offhours_requests</th>\n",
       "      <th>weekdays_requests</th>\n",
       "    </tr>\n",
       "  </thead>\n",
       "  <tbody>\n",
       "    <tr>\n",
       "      <th>0</th>\n",
       "      <td>49478</td>\n",
       "      <td>230</td>\n",
       "      <td>49478</td>\n",
       "      <td>1</td>\n",
       "      <td>2010-01-04</td>\n",
       "      <td>2011-05-16</td>\n",
       "      <td>346</td>\n",
       "      <td>0</td>\n",
       "      <td>0</td>\n",
       "    </tr>\n",
       "    <tr>\n",
       "      <th>1</th>\n",
       "      <td>4878</td>\n",
       "      <td>109</td>\n",
       "      <td>4878</td>\n",
       "      <td>1</td>\n",
       "      <td>2010-01-04</td>\n",
       "      <td>2010-08-24</td>\n",
       "      <td>164</td>\n",
       "      <td>0</td>\n",
       "      <td>0</td>\n",
       "    </tr>\n",
       "    <tr>\n",
       "      <th>2</th>\n",
       "      <td>32870</td>\n",
       "      <td>357</td>\n",
       "      <td>32870</td>\n",
       "      <td>1</td>\n",
       "      <td>2010-01-04</td>\n",
       "      <td>2011-05-16</td>\n",
       "      <td>346</td>\n",
       "      <td>0</td>\n",
       "      <td>0</td>\n",
       "    </tr>\n",
       "    <tr>\n",
       "      <th>3</th>\n",
       "      <td>3460</td>\n",
       "      <td>203</td>\n",
       "      <td>3460</td>\n",
       "      <td>1</td>\n",
       "      <td>2010-01-04</td>\n",
       "      <td>2011-05-16</td>\n",
       "      <td>346</td>\n",
       "      <td>184</td>\n",
       "      <td>0</td>\n",
       "    </tr>\n",
       "    <tr>\n",
       "      <th>4</th>\n",
       "      <td>6498</td>\n",
       "      <td>127</td>\n",
       "      <td>6498</td>\n",
       "      <td>1</td>\n",
       "      <td>2010-01-04</td>\n",
       "      <td>2010-11-17</td>\n",
       "      <td>225</td>\n",
       "      <td>1417</td>\n",
       "      <td>4</td>\n",
       "    </tr>\n",
       "  </tbody>\n",
       "</table>\n",
       "</div>"
      ],
      "text/plain": [
       "   total_requests  unique_urls  unique_content_type  unique_pcs first_request  \\\n",
       "0           49478          230                49478           1    2010-01-04   \n",
       "1            4878          109                 4878           1    2010-01-04   \n",
       "2           32870          357                32870           1    2010-01-04   \n",
       "3            3460          203                 3460           1    2010-01-04   \n",
       "4            6498          127                 6498           1    2010-01-04   \n",
       "\n",
       "  last_request  active_days  offhours_requests  weekdays_requests  \n",
       "0   2011-05-16          346                  0                  0  \n",
       "1   2010-08-24          164                  0                  0  \n",
       "2   2011-05-16          346                  0                  0  \n",
       "3   2011-05-16          346                184                  0  \n",
       "4   2010-11-17          225               1417                  4  "
      ]
     },
     "execution_count": 36,
     "metadata": {},
     "output_type": "execute_result"
    }
   ],
   "source": [
    "user_http_agg.head()  # Display the first few rows of the aggregated DataFrame"
   ]
  },
  {
   "cell_type": "code",
   "execution_count": 37,
   "id": "6125c9a9",
   "metadata": {},
   "outputs": [
    {
     "name": "stdout",
     "output_type": "stream",
     "text": [
      "<class 'pandas.core.frame.DataFrame'>\n",
      "RangeIndex: 1000 entries, 0 to 999\n",
      "Data columns (total 9 columns):\n",
      " #   Column               Non-Null Count  Dtype \n",
      "---  ------               --------------  ----- \n",
      " 0   total_requests       1000 non-null   int64 \n",
      " 1   unique_urls          1000 non-null   int64 \n",
      " 2   unique_content_type  1000 non-null   int64 \n",
      " 3   unique_pcs           1000 non-null   int64 \n",
      " 4   first_request        1000 non-null   object\n",
      " 5   last_request         1000 non-null   object\n",
      " 6   active_days          1000 non-null   int64 \n",
      " 7   offhours_requests    1000 non-null   int64 \n",
      " 8   weekdays_requests    1000 non-null   int64 \n",
      "dtypes: int64(7), object(2)\n",
      "memory usage: 70.4+ KB\n"
     ]
    }
   ],
   "source": [
    "user_http_agg.describe()  # Get a statistical summary of the aggregated DataFrame\n",
    "\n",
    "user_http_agg.info()  # Get a concise summary of the aggregated DataFrame   "
   ]
  },
  {
   "cell_type": "code",
   "execution_count": 38,
   "id": "399f93b3",
   "metadata": {},
   "outputs": [
    {
     "name": "stdout",
     "output_type": "stream",
     "text": [
      "<class 'pandas.core.frame.DataFrame'>\n",
      "RangeIndex: 1000 entries, 0 to 999\n",
      "Data columns (total 9 columns):\n",
      " #   Column               Non-Null Count  Dtype \n",
      "---  ------               --------------  ----- \n",
      " 0   total_requests       1000 non-null   int64 \n",
      " 1   unique_users         1000 non-null   int64 \n",
      " 2   unique_urls          1000 non-null   int64 \n",
      " 3   unique_content_type  1000 non-null   int64 \n",
      " 4   first_request        1000 non-null   object\n",
      " 5   last_request         1000 non-null   object\n",
      " 6   active_days          1000 non-null   int64 \n",
      " 7   offhours_requests    1000 non-null   int64 \n",
      " 8   weekdays_requests    1000 non-null   int64 \n",
      "dtypes: int64(7), object(2)\n",
      "memory usage: 70.4+ KB\n"
     ]
    }
   ],
   "source": [
    "pc_http_agg= http_data.groupby('pc').agg(\n",
    "    total_requests=('id', 'count'),  # Count total requests per PC\n",
    "    unique_users=('user', 'nunique'),  # Count unique users per PC\n",
    "    unique_urls=('url', 'nunique'),  # Count unique URLs per PC\n",
    "    unique_content_type=('content', 'nunique'),  # Count unique content types per PC\n",
    "    first_request=('day', 'min'),  # Get the first request date per PC\n",
    "    last_request=('day', 'max'),  # Get the last request date per PC\n",
    "    active_days=('day', 'nunique'),  # Count unique days of activity per PC\n",
    "    offhours_requests=('hour', lambda x: (x < 8).sum() + (x > 18).sum()),  # Count off-hours requests per PC\n",
    "    weekdays_requests=('weekday', lambda x: (x.isin(['Saturday', 'Sunday'])).sum())  # Count weekend requests per PC\n",
    ")\n",
    "\n",
    "pc_http_agg.to_csv('pc_http_agg.csv', index=False)  # Save the aggregated data to a CSV file\n",
    "\n",
    "pc_http_agg=pd.read_csv(r'C:\\Users\\USER\\Downloads\\r4.2\\r4.2\\pc_http_agg.csv')  # Load the aggregated data from CSV\n",
    "pc_http_agg.head()  # Display the first few rows of the aggregated DataFrame\n",
    "\n",
    "pc_http_agg.describe()  # Get a statistical summary of the aggregated DataFrame\n",
    "pc_http_agg.info()  # Get a concise summary of the aggregated DataFrame"
   ]
  },
  {
   "cell_type": "code",
   "execution_count": 40,
   "id": "1261a766",
   "metadata": {},
   "outputs": [
    {
     "data": {
      "image/png": "[encoded data removed]",
      "text/plain": [
       "<Figure size 1000x500 with 1 Axes>"
      ]
     },
     "metadata": {},
     "output_type": "display_data"
    }
   ],
   "source": [
    "user_http_agg['total_requests'].plot(kind='hist', bins=30, figsize=(10, 5), title='Distribution of Total Requests per User')  # Plot histogram of total requests per user\n",
    "plt.show()  # Show the plot"
   ]
  },
  {
   "cell_type": "code",
   "execution_count": 42,
   "id": "f1fdb467",
   "metadata": {},
   "outputs": [
    {
     "data": {
      "text/plain": [
       "(array([586., 104.,  40.,  26.,  77.,  37.,  51.,  25.,  10.,  12.,   7.,\n",
       "          5.,   1.,   8.,   4.,   0.,   2.,   0.,   0.,   1.,   1.,   0.,\n",
       "          0.,   0.,   1.,   0.,   0.,   0.,   0.,   2.]),\n",
       " array([    0. ,   524.8,  1049.6,  1574.4,  2099.2,  2624. ,  3148.8,\n",
       "         3673.6,  4198.4,  4723.2,  5248. ,  5772.8,  6297.6,  6822.4,\n",
       "         7347.2,  7872. ,  8396.8,  8921.6,  9446.4,  9971.2, 10496. ,\n",
       "        11020.8, 11545.6, 12070.4, 12595.2, 13120. , 13644.8, 14169.6,\n",
       "        14694.4, 15219.2, 15744. ]),\n",
       " <BarContainer object of 30 artists>)"
      ]
     },
     "execution_count": 42,
     "metadata": {},
     "output_type": "execute_result"
    },
    {
     "data": {
      "image/png": "[encoded data removed]",
      "text/plain": [
       "<Figure size 640x480 with 1 Axes>"
      ]
     },
     "metadata": {},
     "output_type": "display_data"
    }
   ],
   "source": [
    "#Active time patterns \n",
    "plt.hist(user_http_agg['offhours_requests'], bins=30, alpha=0.7, color='blue', edgecolor='black')  # Histogram of active days"
   ]
  },
  {
   "cell_type": "code",
   "execution_count": 49,
   "id": "25ac0ec9",
   "metadata": {},
   "outputs": [
    {
     "name": "stderr",
     "output_type": "stream",
     "text": [
      "c:\\Users\\USER\\AppData\\Local\\Programs\\Python\\Python310\\lib\\site-packages\\pandas\\io\\formats\\style.py:3807: RuntimeWarning: All-NaN slice encountered\n",
      "  smin = np.nanmin(gmap) if vmin is None else vmin\n",
      "c:\\Users\\USER\\AppData\\Local\\Programs\\Python\\Python310\\lib\\site-packages\\pandas\\io\\formats\\style.py:3808: RuntimeWarning: All-NaN slice encountered\n",
      "  smax = np.nanmax(gmap) if vmax is None else vmax\n"
     ]
    },
    {
     "data": {
      "text/html": [
       "<style type=\"text/css\">\n",
       "#T_741e0_row0_col0, #T_741e0_row0_col2, #T_741e0_row1_col1, #T_741e0_row2_col0, #T_741e0_row2_col2, #T_741e0_row4_col4, #T_741e0_row5_col5, #T_741e0_row6_col6 {\n",
       "  background-color: #b40426;\n",
       "  color: #f1f1f1;\n",
       "}\n",
       "#T_741e0_row0_col1, #T_741e0_row2_col1 {\n",
       "  background-color: #bed2f6;\n",
       "  color: #000000;\n",
       "}\n",
       "#T_741e0_row0_col3, #T_741e0_row1_col3, #T_741e0_row2_col3, #T_741e0_row3_col0, #T_741e0_row3_col1, #T_741e0_row3_col2, #T_741e0_row3_col3, #T_741e0_row3_col4, #T_741e0_row3_col5, #T_741e0_row3_col6, #T_741e0_row4_col3, #T_741e0_row5_col3, #T_741e0_row6_col3 {\n",
       "  background-color: #000000;\n",
       "  color: #f1f1f1;\n",
       "}\n",
       "#T_741e0_row0_col4, #T_741e0_row2_col4 {\n",
       "  background-color: #7396f5;\n",
       "  color: #f1f1f1;\n",
       "}\n",
       "#T_741e0_row0_col5, #T_741e0_row2_col5 {\n",
       "  background-color: #a7c5fe;\n",
       "  color: #000000;\n",
       "}\n",
       "#T_741e0_row0_col6, #T_741e0_row2_col6 {\n",
       "  background-color: #7295f4;\n",
       "  color: #f1f1f1;\n",
       "}\n",
       "#T_741e0_row1_col0, #T_741e0_row1_col2 {\n",
       "  background-color: #92b4fe;\n",
       "  color: #000000;\n",
       "}\n",
       "#T_741e0_row1_col4 {\n",
       "  background-color: #3e51c5;\n",
       "  color: #f1f1f1;\n",
       "}\n",
       "#T_741e0_row1_col5, #T_741e0_row5_col6 {\n",
       "  background-color: #4e68d8;\n",
       "  color: #f1f1f1;\n",
       "}\n",
       "#T_741e0_row1_col6, #T_741e0_row4_col5, #T_741e0_row5_col4, #T_741e0_row6_col0, #T_741e0_row6_col1, #T_741e0_row6_col2 {\n",
       "  background-color: #3b4cc0;\n",
       "  color: #f1f1f1;\n",
       "}\n",
       "#T_741e0_row4_col0, #T_741e0_row4_col2 {\n",
       "  background-color: #485fd1;\n",
       "  color: #f1f1f1;\n",
       "}\n",
       "#T_741e0_row4_col1 {\n",
       "  background-color: #4a63d3;\n",
       "  color: #f1f1f1;\n",
       "}\n",
       "#T_741e0_row4_col6 {\n",
       "  background-color: #8caffe;\n",
       "  color: #000000;\n",
       "}\n",
       "#T_741e0_row5_col0, #T_741e0_row5_col2, #T_741e0_row6_col4 {\n",
       "  background-color: #81a4fb;\n",
       "  color: #f1f1f1;\n",
       "}\n",
       "#T_741e0_row5_col1 {\n",
       "  background-color: #5977e3;\n",
       "  color: #f1f1f1;\n",
       "}\n",
       "#T_741e0_row6_col5 {\n",
       "  background-color: #4257c9;\n",
       "  color: #f1f1f1;\n",
       "}\n",
       "</style>\n",
       "<table id=\"T_741e0\">\n",
       "  <thead>\n",
       "    <tr>\n",
       "      <th class=\"blank level0\" >&nbsp;</th>\n",
       "      <th id=\"T_741e0_level0_col0\" class=\"col_heading level0 col0\" >total_requests</th>\n",
       "      <th id=\"T_741e0_level0_col1\" class=\"col_heading level0 col1\" >unique_urls</th>\n",
       "      <th id=\"T_741e0_level0_col2\" class=\"col_heading level0 col2\" >unique_content_type</th>\n",
       "      <th id=\"T_741e0_level0_col3\" class=\"col_heading level0 col3\" >unique_pcs</th>\n",
       "      <th id=\"T_741e0_level0_col4\" class=\"col_heading level0 col4\" >active_days</th>\n",
       "      <th id=\"T_741e0_level0_col5\" class=\"col_heading level0 col5\" >offhours_requests</th>\n",
       "      <th id=\"T_741e0_level0_col6\" class=\"col_heading level0 col6\" >weekdays_requests</th>\n",
       "    </tr>\n",
       "  </thead>\n",
       "  <tbody>\n",
       "    <tr>\n",
       "      <th id=\"T_741e0_level0_row0\" class=\"row_heading level0 row0\" >total_requests</th>\n",
       "      <td id=\"T_741e0_row0_col0\" class=\"data row0 col0\" >1.000000</td>\n",
       "      <td id=\"T_741e0_row0_col1\" class=\"data row0 col1\" >0.455415</td>\n",
       "      <td id=\"T_741e0_row0_col2\" class=\"data row0 col2\" >1.000000</td>\n",
       "      <td id=\"T_741e0_row0_col3\" class=\"data row0 col3\" >nan</td>\n",
       "      <td id=\"T_741e0_row0_col4\" class=\"data row0 col4\" >0.293692</td>\n",
       "      <td id=\"T_741e0_row0_col5\" class=\"data row0 col5\" >0.421460</td>\n",
       "      <td id=\"T_741e0_row0_col6\" class=\"data row0 col6\" >0.261144</td>\n",
       "    </tr>\n",
       "    <tr>\n",
       "      <th id=\"T_741e0_level0_row1\" class=\"row_heading level0 row1\" >unique_urls</th>\n",
       "      <td id=\"T_741e0_row1_col0\" class=\"data row1 col0\" >0.455415</td>\n",
       "      <td id=\"T_741e0_row1_col1\" class=\"data row1 col1\" >1.000000</td>\n",
       "      <td id=\"T_741e0_row1_col2\" class=\"data row1 col2\" >0.455416</td>\n",
       "      <td id=\"T_741e0_row1_col3\" class=\"data row1 col3\" >nan</td>\n",
       "      <td id=\"T_741e0_row1_col4\" class=\"data row1 col4\" >0.150642</td>\n",
       "      <td id=\"T_741e0_row1_col5\" class=\"data row1 col5\" >0.194020</td>\n",
       "      <td id=\"T_741e0_row1_col6\" class=\"data row1 col6\" >0.104391</td>\n",
       "    </tr>\n",
       "    <tr>\n",
       "      <th id=\"T_741e0_level0_row2\" class=\"row_heading level0 row2\" >unique_content_type</th>\n",
       "      <td id=\"T_741e0_row2_col0\" class=\"data row2 col0\" >1.000000</td>\n",
       "      <td id=\"T_741e0_row2_col1\" class=\"data row2 col1\" >0.455416</td>\n",
       "      <td id=\"T_741e0_row2_col2\" class=\"data row2 col2\" >1.000000</td>\n",
       "      <td id=\"T_741e0_row2_col3\" class=\"data row2 col3\" >nan</td>\n",
       "      <td id=\"T_741e0_row2_col4\" class=\"data row2 col4\" >0.293692</td>\n",
       "      <td id=\"T_741e0_row2_col5\" class=\"data row2 col5\" >0.421460</td>\n",
       "      <td id=\"T_741e0_row2_col6\" class=\"data row2 col6\" >0.261144</td>\n",
       "    </tr>\n",
       "    <tr>\n",
       "      <th id=\"T_741e0_level0_row3\" class=\"row_heading level0 row3\" >unique_pcs</th>\n",
       "      <td id=\"T_741e0_row3_col0\" class=\"data row3 col0\" >nan</td>\n",
       "      <td id=\"T_741e0_row3_col1\" class=\"data row3 col1\" >nan</td>\n",
       "      <td id=\"T_741e0_row3_col2\" class=\"data row3 col2\" >nan</td>\n",
       "      <td id=\"T_741e0_row3_col3\" class=\"data row3 col3\" >nan</td>\n",
       "      <td id=\"T_741e0_row3_col4\" class=\"data row3 col4\" >nan</td>\n",
       "      <td id=\"T_741e0_row3_col5\" class=\"data row3 col5\" >nan</td>\n",
       "      <td id=\"T_741e0_row3_col6\" class=\"data row3 col6\" >nan</td>\n",
       "    </tr>\n",
       "    <tr>\n",
       "      <th id=\"T_741e0_level0_row4\" class=\"row_heading level0 row4\" >active_days</th>\n",
       "      <td id=\"T_741e0_row4_col0\" class=\"data row4 col0\" >0.293692</td>\n",
       "      <td id=\"T_741e0_row4_col1\" class=\"data row4 col1\" >0.150642</td>\n",
       "      <td id=\"T_741e0_row4_col2\" class=\"data row4 col2\" >0.293692</td>\n",
       "      <td id=\"T_741e0_row4_col3\" class=\"data row4 col3\" >nan</td>\n",
       "      <td id=\"T_741e0_row4_col4\" class=\"data row4 col4\" >1.000000</td>\n",
       "      <td id=\"T_741e0_row4_col5\" class=\"data row4 col5\" >0.139233</td>\n",
       "      <td id=\"T_741e0_row4_col6\" class=\"data row4 col6\" >0.327245</td>\n",
       "    </tr>\n",
       "    <tr>\n",
       "      <th id=\"T_741e0_level0_row5\" class=\"row_heading level0 row5\" >offhours_requests</th>\n",
       "      <td id=\"T_741e0_row5_col0\" class=\"data row5 col0\" >0.421460</td>\n",
       "      <td id=\"T_741e0_row5_col1\" class=\"data row5 col1\" >0.194020</td>\n",
       "      <td id=\"T_741e0_row5_col2\" class=\"data row5 col2\" >0.421460</td>\n",
       "      <td id=\"T_741e0_row5_col3\" class=\"data row5 col3\" >nan</td>\n",
       "      <td id=\"T_741e0_row5_col4\" class=\"data row5 col4\" >0.139233</td>\n",
       "      <td id=\"T_741e0_row5_col5\" class=\"data row5 col5\" >1.000000</td>\n",
       "      <td id=\"T_741e0_row5_col6\" class=\"data row5 col6\" >0.162563</td>\n",
       "    </tr>\n",
       "    <tr>\n",
       "      <th id=\"T_741e0_level0_row6\" class=\"row_heading level0 row6\" >weekdays_requests</th>\n",
       "      <td id=\"T_741e0_row6_col0\" class=\"data row6 col0\" >0.261144</td>\n",
       "      <td id=\"T_741e0_row6_col1\" class=\"data row6 col1\" >0.104391</td>\n",
       "      <td id=\"T_741e0_row6_col2\" class=\"data row6 col2\" >0.261144</td>\n",
       "      <td id=\"T_741e0_row6_col3\" class=\"data row6 col3\" >nan</td>\n",
       "      <td id=\"T_741e0_row6_col4\" class=\"data row6 col4\" >0.327245</td>\n",
       "      <td id=\"T_741e0_row6_col5\" class=\"data row6 col5\" >0.162563</td>\n",
       "      <td id=\"T_741e0_row6_col6\" class=\"data row6 col6\" >1.000000</td>\n",
       "    </tr>\n",
       "  </tbody>\n",
       "</table>\n"
      ],
      "text/plain": [
       "<pandas.io.formats.style.Styler at 0x1e2a671f040>"
      ]
     },
     "execution_count": 49,
     "metadata": {},
     "output_type": "execute_result"
    }
   ],
   "source": [
    "user_http_agg.corr(numeric_only=True).style.background_gradient(cmap='coolwarm')  # Display correlation matrix with gradient color"
   ]
  }
 ],
 "metadata": {
  "kernelspec": {
   "display_name": "Python 3",
   "language": "python",
   "name": "python3"
  },
  "language_info": {
   "codemirror_mode": {
    "name": "ipython",
    "version": 3
   },
   "file_extension": ".py",
   "mimetype": "text/x-python",
   "name": "python",
   "nbconvert_exporter": "python",
   "pygments_lexer": "ipython3",
   "version": "3.10.0"
  }
 },
 "nbformat": 4,
 "nbformat_minor": 5
}
